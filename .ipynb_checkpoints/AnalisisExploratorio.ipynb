{
 "cells": [
  {
   "cell_type": "markdown",
   "metadata": {},
   "source": [
    "# Recopilación de puntos "
   ]
  },
  {
   "cell_type": "markdown",
   "metadata": {},
   "source": [
    "En esta sección vamos a comparar a la recopilación de puntos de cada equipo, vamos a comparar primero por temporadas y después la suma de todos. "
   ]
  },
  {
   "cell_type": "code",
   "execution_count": 2,
   "metadata": {},
   "outputs": [],
   "source": [
    "import numpy as np\n",
    "import matplotlib.pyplot as plt\n",
    "import pandas as pd\n",
    "import import_ipynb"
   ]
  },
  {
   "cell_type": "code",
   "execution_count": 21,
   "metadata": {},
   "outputs": [],
   "source": [
    "#La información de estos datos pertenecen a la temporada 2017/2018 de La Liga. \n",
    "# Para ver como quedo la tabla de esta temporada vea dentro de la carpeta Info_para_usar y y abra la imagen que se llama \n",
    "#Tabla_temporada_2017_2018\n",
    "Barcelona2018 = 93\n",
    "AtleticoMadrid2018 = 79\n",
    "RealMadrid2018 = 76\n",
    "Valencia2018 = 73\n",
    "Villareal2018 = 61\n",
    "Betis2018 = 60\n",
    "Sevilla2018 = 58 \n",
    "Getafe2018 = 55\n",
    "Espanyol2018 = 49\n",
    "RealSociedad2018 = 49\n",
    "#SIGUIENTES 6 EQUIPOS ->\n",
    "\n",
    "Celta2018 = 49\n",
    "#ULTIMOS 7 EQUIPOS ->\n",
    "Alaves2018 = 47\n",
    "Levante2018 = 46\n",
    "Athletic2018 = 43\n",
    "Leganes2018 = 43\n",
    "Deportivo2018 = 29\n",
    "LasPalmas2018 = 22\n",
    "Malaga2018 = 20"
   ]
  },
  {
   "cell_type": "code",
   "execution_count": 27,
   "metadata": {},
   "outputs": [],
   "source": [
    "#La información de estos datos pertenecen a la temporada 2018/2019 de La Liga. \n",
    "# Para ver como quedo la tabla de esta temporada vea dentro de la carpeta Info_para_usar y y abra la imagen que se llama \n",
    "#Tabla_temporada_2018_2019\n",
    "Barcelona2019 = 87\n",
    "AtleticoMadrid2019 = 76\n",
    "RealMadrid2019 = 68\n",
    "Valencia2019 = 61\n",
    "Getafe2019 = 59\n",
    "Sevilla2019 = 59\n",
    "Espanyol2019 = 53 \n",
    "Betis2019 = 50\n",
    "RealSociedad2019 = 50\n",
    "Villareal2019 = 44\n",
    "\n",
    "#SIGUIENTES 6 EQUIPOS ->\n",
    "Athletic2019 = 53\n",
    "Alaves2019 = 50\n",
    "Leganes2019 = 45\n",
    "Levante2019 = 44\n",
    "\n",
    "#ULTIMOS 7 EQUIPOS ->\n",
    "levante2019 = 44\n",
    "Realvallaloid2019 =  41\n",
    "Celta2019 = 41\n",
    "Girona2019 = 37\n",
    "Huesca2019 = 33\n",
    "rayo2019 = 32"
   ]
  },
  {
   "cell_type": "code",
   "execution_count": 25,
   "metadata": {},
   "outputs": [],
   "source": [
    "#La información de estos datos pertenecen a la temporada 2019/2020 de La Liga. \n",
    "# Para ver como quedo la tabla de esta temporada vea dentro de la carpeta Info_para_usar y y abra la imagen que se llama \n",
    "#Tabla_temporada_2019_2020\n",
    "Barcelona2020 = 58\n",
    "RealMadrid2020 = 56\n",
    "Sevilla2020 = 47\n",
    "RealSociedad2020 = 46\n",
    "Getafe2020 = 46\n",
    "AtleticoMadrid2020 = 45\n",
    "Valencia2020 = 42\n",
    "Espanyol2020 = 20\n",
    "Betis2020 = 33\n",
    "Villareal2020 = 38\n",
    "\n",
    "#SIGUIENTES 6 EQUIPOS ->\n",
    "Athletic2020 = 37\n",
    "Levante2020 = 33\n",
    "\n",
    "#ULTIMOS 7 EQUIPOS ->\n",
    "Alaves2020 = 32 \n",
    "Realvallaloid2020 = 29\n",
    "Eibar2020 = 27\n",
    "Celta2020 = 26\n",
    "Mallorca2020 = 25 \n",
    "Leganes2020 = 23\n"
   ]
  },
  {
   "cell_type": "code",
   "execution_count": 28,
   "metadata": {},
   "outputs": [
    {
     "data": {
      "image/png": "[encoded data removed]",
      "text/plain": [
       "<Figure size 432x288 with 1 Axes>"
      ]
     },
     "metadata": {
      "needs_background": "light"
     },
     "output_type": "display_data"
    }
   ],
   "source": [
    "#Aquí vamos a sumar todas los puntos obtenidos por los equipos en estas temporadas y compararlos, primero sin sumarlos\n",
    "#y luego todos sumados.\n",
    "BarcelonaTOTAL = Barcelona2018 + Barcelona2019 + Barcelona2020\n",
    "AtleticoMadridTOTAL = AtleticoMadrid2018 + AtleticoMadrid2019 + AtleticoMadrid2020 \n",
    "RealMadridTOTAL = RealMadrid2018 + RealMadrid2019 + RealMadrid2020 \n",
    "ValenciaTOTAL = Valencia2018 + Valencia2019 + Valencia2020 \n",
    "VillarealTOTAL = Villareal2018 + Villareal2019 + Villareal2020 \n",
    "BetisTOTAL = Betis2018 + Betis2019 + Betis2020\n",
    "SevillaTOTAL = Sevilla2018 + Sevilla2019 + Sevilla2020 \n",
    "\n",
    "GetafeTOTAL = Getafe2018 + Getafe2019 + Getafe2020 \n",
    "EspanyolTOTAL = Espanyol2018 + Espanyol2019 + Espanyol2020 \n",
    "RealSociedadTOTAL = RealSociedad2018 + RealSociedad2019 + RealSociedad2020 \n",
    "\n",
    "AlavesToTAL = Alaves2018 + Alaves2019 + Alaves2020\n",
    "LevanteTOTAL = Levante2018 + Levante2019 + Levante2020\n",
    "AthleticTOTAL = Athletic2018 + Athletic2019 + Athletic2020\n",
    "LeganesTOTAL = Leganes2018 + Leganes2019 + Leganes2020\n",
    "RealvallaloidTOTAL = Realvallaloid2019 + Realvallaloid2020\n",
    "CeltaTOTAL = Celta2018 + Celta2019 + Celta2020\n",
    "\n",
    "indice = np.arange(16)\n",
    "lista = [BarcelonaTOTAL, AtleticoMadridTOTAL, RealMadridTOTAL, ValenciaTOTAL, VillarealTOTAL, BetisTOTAL, SevillaTOTAL,\n",
    "         GetafeTOTAL, EspanyolTOTAL, RealSociedadTOTAL, AlavesToTAL, LevanteTOTAL, AthleticTOTAL, LeganesTOTAL, RealvallaloidTOTAL, \n",
    "         CeltaTOTAL]\n",
    "plt.title(\"Comparación de las sumatorias de las 3 temporadas\")\n",
    "plt.xlabel(\"Equipo\") \n",
    "plt.ylabel(\"Puntos\")\n",
    "y_pos = np.arange(len(lista))\n",
    "plt.bar(y_pos, lista, color=\"r\", align='center', alpha=0.5)\n",
    "plt.xticks(indice, (\"BAR\", \"ATM\", \"RMA\", \"VAL\", \"VIL\", \"BET\", \"SEV\", \"GET\", \"ESP\", \"REA\", \"ALA\", \"LEV\",\"ATH\", \"LEG\",\"RVL\",\"CEL\"))\n",
    "plt.show()"
   ]
  },
  {
   "cell_type": "markdown",
   "metadata": {},
   "source": [
    "Para esta parte vamos a conocer el equipo mas campeón en cuando juega de Local, lo cúal es importante ya que es un factor que directamente afecta en el resultado según la creencia popular del Football."
   ]
  },
  {
   "cell_type": "code",
   "execution_count": 32,
   "metadata": {},
   "outputs": [
    {
     "data": {
      "text/html": [
       "<div>\n",
       "<style scoped>\n",
       "    .dataframe tbody tr th:only-of-type {\n",
       "        vertical-align: middle;\n",
       "    }\n",
       "\n",
       "    .dataframe tbody tr th {\n",
       "        vertical-align: top;\n",
       "    }\n",
       "\n",
       "    .dataframe thead th {\n",
       "        text-align: right;\n",
       "    }\n",
       "</style>\n",
       "<table border=\"1\" class=\"dataframe\">\n",
       "  <thead>\n",
       "    <tr style=\"text-align: right;\">\n",
       "      <th></th>\n",
       "      <th>Season</th>\n",
       "      <th>Date</th>\n",
       "      <th>HomeTeam</th>\n",
       "      <th>AwayTeam</th>\n",
       "      <th>FTHG</th>\n",
       "      <th>FTAG</th>\n",
       "      <th>FTR</th>\n",
       "      <th>HTHG</th>\n",
       "      <th>HTAG</th>\n",
       "      <th>HTR</th>\n",
       "    </tr>\n",
       "  </thead>\n",
       "  <tbody>\n",
       "    <tr>\n",
       "      <th>0</th>\n",
       "      <td>1995-96</td>\n",
       "      <td>2/9/1995</td>\n",
       "      <td>La Coruna</td>\n",
       "      <td>Valencia</td>\n",
       "      <td>3</td>\n",
       "      <td>0</td>\n",
       "      <td>H</td>\n",
       "      <td>2.0</td>\n",
       "      <td>0.0</td>\n",
       "      <td>H</td>\n",
       "    </tr>\n",
       "    <tr>\n",
       "      <th>1</th>\n",
       "      <td>1995-96</td>\n",
       "      <td>2/9/1995</td>\n",
       "      <td>Sp Gijon</td>\n",
       "      <td>Albacete</td>\n",
       "      <td>3</td>\n",
       "      <td>0</td>\n",
       "      <td>H</td>\n",
       "      <td>3.0</td>\n",
       "      <td>0.0</td>\n",
       "      <td>H</td>\n",
       "    </tr>\n",
       "    <tr>\n",
       "      <th>2</th>\n",
       "      <td>1995-96</td>\n",
       "      <td>3/9/1995</td>\n",
       "      <td>Ath Bilbao</td>\n",
       "      <td>Santander</td>\n",
       "      <td>4</td>\n",
       "      <td>0</td>\n",
       "      <td>H</td>\n",
       "      <td>2.0</td>\n",
       "      <td>0.0</td>\n",
       "      <td>H</td>\n",
       "    </tr>\n",
       "    <tr>\n",
       "      <th>3</th>\n",
       "      <td>1995-96</td>\n",
       "      <td>3/9/1995</td>\n",
       "      <td>Ath Madrid</td>\n",
       "      <td>Sociedad</td>\n",
       "      <td>4</td>\n",
       "      <td>1</td>\n",
       "      <td>H</td>\n",
       "      <td>1.0</td>\n",
       "      <td>1.0</td>\n",
       "      <td>D</td>\n",
       "    </tr>\n",
       "    <tr>\n",
       "      <th>4</th>\n",
       "      <td>1995-96</td>\n",
       "      <td>3/9/1995</td>\n",
       "      <td>Celta</td>\n",
       "      <td>Compostela</td>\n",
       "      <td>0</td>\n",
       "      <td>1</td>\n",
       "      <td>A</td>\n",
       "      <td>0.0</td>\n",
       "      <td>0.0</td>\n",
       "      <td>D</td>\n",
       "    </tr>\n",
       "    <tr>\n",
       "      <th>...</th>\n",
       "      <td>...</td>\n",
       "      <td>...</td>\n",
       "      <td>...</td>\n",
       "      <td>...</td>\n",
       "      <td>...</td>\n",
       "      <td>...</td>\n",
       "      <td>...</td>\n",
       "      <td>...</td>\n",
       "      <td>...</td>\n",
       "      <td>...</td>\n",
       "    </tr>\n",
       "    <tr>\n",
       "      <th>9240</th>\n",
       "      <td>2018-19</td>\n",
       "      <td>24/04/2019</td>\n",
       "      <td>Levante</td>\n",
       "      <td>Betis</td>\n",
       "      <td>4</td>\n",
       "      <td>0</td>\n",
       "      <td>H</td>\n",
       "      <td>2.0</td>\n",
       "      <td>0.0</td>\n",
       "      <td>H</td>\n",
       "    </tr>\n",
       "    <tr>\n",
       "      <th>9241</th>\n",
       "      <td>2018-19</td>\n",
       "      <td>25/04/2019</td>\n",
       "      <td>Getafe</td>\n",
       "      <td>Real Madrid</td>\n",
       "      <td>0</td>\n",
       "      <td>0</td>\n",
       "      <td>D</td>\n",
       "      <td>0.0</td>\n",
       "      <td>0.0</td>\n",
       "      <td>D</td>\n",
       "    </tr>\n",
       "    <tr>\n",
       "      <th>9242</th>\n",
       "      <td>2018-19</td>\n",
       "      <td>25/04/2019</td>\n",
       "      <td>Sevilla</td>\n",
       "      <td>Vallecano</td>\n",
       "      <td>5</td>\n",
       "      <td>0</td>\n",
       "      <td>H</td>\n",
       "      <td>0.0</td>\n",
       "      <td>0.0</td>\n",
       "      <td>D</td>\n",
       "    </tr>\n",
       "    <tr>\n",
       "      <th>9243</th>\n",
       "      <td>2018-19</td>\n",
       "      <td>25/04/2019</td>\n",
       "      <td>Sociedad</td>\n",
       "      <td>Villarreal</td>\n",
       "      <td>0</td>\n",
       "      <td>1</td>\n",
       "      <td>A</td>\n",
       "      <td>0.0</td>\n",
       "      <td>0.0</td>\n",
       "      <td>D</td>\n",
       "    </tr>\n",
       "    <tr>\n",
       "      <th>9244</th>\n",
       "      <td>2018-19</td>\n",
       "      <td>27/04/2019</td>\n",
       "      <td>Ath Bilbao</td>\n",
       "      <td>Alaves</td>\n",
       "      <td>1</td>\n",
       "      <td>1</td>\n",
       "      <td>D</td>\n",
       "      <td>1.0</td>\n",
       "      <td>1.0</td>\n",
       "      <td>D</td>\n",
       "    </tr>\n",
       "  </tbody>\n",
       "</table>\n",
       "<p>9245 rows × 10 columns</p>\n",
       "</div>"
      ],
      "text/plain": [
       "       Season        Date    HomeTeam     AwayTeam  FTHG  FTAG FTR  HTHG  \\\n",
       "0     1995-96    2/9/1995   La Coruna     Valencia     3     0   H   2.0   \n",
       "1     1995-96    2/9/1995    Sp Gijon     Albacete     3     0   H   3.0   \n",
       "2     1995-96    3/9/1995  Ath Bilbao    Santander     4     0   H   2.0   \n",
       "3     1995-96    3/9/1995  Ath Madrid     Sociedad     4     1   H   1.0   \n",
       "4     1995-96    3/9/1995       Celta   Compostela     0     1   A   0.0   \n",
       "...       ...         ...         ...          ...   ...   ...  ..   ...   \n",
       "9240  2018-19  24/04/2019     Levante        Betis     4     0   H   2.0   \n",
       "9241  2018-19  25/04/2019      Getafe  Real Madrid     0     0   D   0.0   \n",
       "9242  2018-19  25/04/2019     Sevilla    Vallecano     5     0   H   0.0   \n",
       "9243  2018-19  25/04/2019    Sociedad   Villarreal     0     1   A   0.0   \n",
       "9244  2018-19  27/04/2019  Ath Bilbao       Alaves     1     1   D   1.0   \n",
       "\n",
       "      HTAG HTR  \n",
       "0      0.0   H  \n",
       "1      0.0   H  \n",
       "2      0.0   H  \n",
       "3      1.0   D  \n",
       "4      0.0   D  \n",
       "...    ...  ..  \n",
       "9240   0.0   H  \n",
       "9241   0.0   D  \n",
       "9242   0.0   D  \n",
       "9243   0.0   D  \n",
       "9244   1.0   D  \n",
       "\n",
       "[9245 rows x 10 columns]"
      ]
     },
     "execution_count": 32,
     "metadata": {},
     "output_type": "execute_result"
    }
   ],
   "source": [
    "data = pd.read_csv('Info_para_usar\\LaLiga Complete Matches 1995-2020.csv')\n",
    "data.head(9245)"
   ]
  },
  {
   "cell_type": "code",
   "execution_count": 41,
   "metadata": {},
   "outputs": [],
   "source": [
    "#BARCELONA RESULTADOS COMO LOCAL \n",
    "numero = 0 \n",
    "BARvictories = 0 \n",
    "BARdefeats = 0\n",
    "BARdraw = 0\n",
    "while(numero < 380):\n",
    "    if(data.HomeTeam[8524 + numero] == 'Barcelona'):\n",
    "        if(data.FTR[8524 + numero] == 'H'):\n",
    "            BARvictories += 1\n",
    "        elif(data.FTR[8524 + numero] == 'D'):\n",
    "            BARdraw += 1\n",
    "        elif(data.FTR[8524 + numero] == 'A'):\n",
    "            BARdefeats += 1\n",
    "    numero += 1\n",
    "numero = 0 \n",
    "while(numero < 380):\n",
    "    if(data.HomeTeam[8904 + numero] == 'Barcelona'):\n",
    "        if(data.FTR[8904 + numero] == 'H'):\n",
    "            BARvictories += 1\n",
    "        elif(data.FTR[8904 + numero] == 'D'):\n",
    "            BARdraw += 1\n",
    "        elif(data.FTR[8904 + numero] == 'A'):\n",
    "            BARdefeats += 1\n",
    "    numero += 1\n",
    "numero = 0 \n",
    "while(numero < 270):\n",
    "    if(data.HomeTeam[9284 + numero] == 'Barcelona'):\n",
    "        if(data.FTR[9284 + numero] == 'H'):\n",
    "            BARvictories += 1\n",
    "        elif(data.FTR[9284 + numero] == 'D'):\n",
    "            BARdraw += 1\n",
    "        elif(data.FTR[9284 + numero] == 'A'):\n",
    "            BARdefeats += 1\n",
    "    numero += 1\n",
    "    \n",
    "    \n",
    "#ATLETICO DE MADRID RESULTADOS COMO LOCAL     \n",
    "numero = 0 \n",
    "ATMvictories = 0 \n",
    "ATMdefeats = 0\n",
    "ATMdraw = 0\n",
    "while(numero < 380):\n",
    "    if(data.HomeTeam[8524 + numero] == 'Ath Madrid'):\n",
    "        if(data.FTR[8524 + numero] == 'H'):\n",
    "            ATMvictories += 1\n",
    "        elif(data.FTR[8524 + numero] == 'D'):\n",
    "            ATMdraw += 1\n",
    "        elif(data.FTR[8524 + numero] == 'A'):\n",
    "            ATMdefeats += 1\n",
    "    numero += 1\n",
    "numero = 0 \n",
    "while(numero < 380):\n",
    "    if(data.HomeTeam[8904 + numero] == 'Ath Madrid'):\n",
    "        if(data.FTR[8904 + numero] == 'H'):\n",
    "            ATMvictories += 1\n",
    "        elif(data.FTR[8904 + numero] == 'D'):\n",
    "            ATMdraw += 1\n",
    "        elif(data.FTR[8904 + numero] == 'A'):\n",
    "            ATMdefeats += 1\n",
    "    numero += 1\n",
    "numero = 0 \n",
    "while(numero < 270):\n",
    "    if(data.HomeTeam[9284 + numero] == 'Ath Madrid'):\n",
    "        if(data.FTR[9284 + numero] == 'H'):\n",
    "            ATMvictories += 1\n",
    "        elif(data.FTR[9284 + numero] == 'D'):\n",
    "            ATMdraw += 1\n",
    "        elif(data.FTR[9284 + numero] == 'A'):\n",
    "            ATMdefeats += 1\n",
    "    numero += 1\n",
    "\n",
    "\n",
    "#REAL MADRID RESULTADOS COMO LOCAL     \n",
    "numero = 0 \n",
    "RMAvictories = 0 \n",
    "RMAdefeats = 0\n",
    "RMAdraw = 0\n",
    "while(numero < 380):\n",
    "    if(data.HomeTeam[8524 + numero] == \"Real Madrid\"):\n",
    "        if(data.FTR[8524 + numero] == 'H'):\n",
    "            RMAvictories += 1\n",
    "        elif(data.FTR[8524 + numero] == 'D'):\n",
    "            RMAdraw += 1\n",
    "        elif(data.FTR[8524 + numero] == 'A'):\n",
    "            RMAdefeats += 1\n",
    "    numero += 1\n",
    "numero = 0 \n",
    "while(numero < 380):\n",
    "    if(data.HomeTeam[8904 + numero] == \"Real Madrid\"):\n",
    "        if(data.FTR[8904 + numero] == 'H'):\n",
    "            RMAvictories += 1\n",
    "        elif(data.FTR[8904 + numero] == 'D'):\n",
    "            RMAdraw += 1\n",
    "        elif(data.FTR[8904 + numero] == 'A'):\n",
    "            RMAdefeats += 1\n",
    "    numero += 1\n",
    "numero = 0 \n",
    "while(numero < 270):\n",
    "    if(data.HomeTeam[9284 + numero] == \"Real Madrid\"):\n",
    "        if(data.FTR[9284 + numero] == 'H'):\n",
    "            RMAvictories += 1\n",
    "        elif(data.FTR[9284 + numero] == 'D'):\n",
    "            RMAdraw += 1\n",
    "        elif(data.FTR[9284 + numero] == 'A'):\n",
    "            RMAdefeats += 1\n",
    "    numero += 1\n",
    "    \n",
    "\n",
    "#VALENCIA RESULTADOS COMO LOCAL     \n",
    "numero = 0 \n",
    "VALvictories = 0 \n",
    "VALdefeats = 0\n",
    "VALdraw = 0\n",
    "while(numero < 380):\n",
    "    if(data.HomeTeam[8524 + numero] == 'Valencia'):\n",
    "        if(data.FTR[8524 + numero] == 'H'):\n",
    "            VALvictories += 1\n",
    "        elif(data.FTR[8524 + numero] == 'D'):\n",
    "            VALdraw += 1\n",
    "        elif(data.FTR[8524 + numero] == 'A'):\n",
    "            VALdefeats += 1\n",
    "    numero += 1\n",
    "numero = 0 \n",
    "while(numero < 380):\n",
    "    if(data.HomeTeam[8904 + numero] == 'Valencia'):\n",
    "        if(data.FTR[8904 + numero] == 'H'):\n",
    "            VALvictories += 1\n",
    "        elif(data.FTR[8904 + numero] == 'D'):\n",
    "            VALdraw += 1\n",
    "        elif(data.FTR[8904 + numero] == 'A'):\n",
    "            VALdefeats += 1\n",
    "    numero += 1\n",
    "numero = 0 \n",
    "while(numero < 270):\n",
    "    if(data.HomeTeam[9284 + numero] == 'Valencia'):\n",
    "        if(data.FTR[9284 + numero] == 'H'):\n",
    "            VALvictories += 1\n",
    "        elif(data.FTR[9284 + numero] == 'D'):\n",
    "            VALdraw += 1\n",
    "        elif(data.FTR[9284 + numero] == 'A'):\n",
    "            VALdefeats += 1\n",
    "    numero += 1\n",
    "    \n",
    "#VILLAREAL RESULTADOS COMO LOCAL     \n",
    "numero = 0 \n",
    "VILvictories = 0 \n",
    "VILdefeats = 0\n",
    "VILdraw = 0\n",
    "while(numero < 380):\n",
    "    if(data.HomeTeam[8524 + numero] == 'Villarreal'):\n",
    "        if(data.FTR[8524 + numero] == 'H'):\n",
    "            VILvictories += 1\n",
    "        elif(data.FTR[8524 + numero] == 'D'):\n",
    "            VILdraw += 1\n",
    "        elif(data.FTR[8524 + numero] == 'A'):\n",
    "            VILdefeats += 1\n",
    "    numero += 1\n",
    "numero = 0 \n",
    "while(numero < 380):\n",
    "    if(data.HomeTeam[8904 + numero] == 'Villarreal'):\n",
    "        if(data.FTR[8904 + numero] == 'H'):\n",
    "            VILvictories += 1\n",
    "        elif(data.FTR[8904 + numero] == 'D'):\n",
    "            VILdraw += 1\n",
    "        elif(data.FTR[8904 + numero] == 'A'):\n",
    "            VILdefeats += 1\n",
    "    numero += 1\n",
    "numero = 0 \n",
    "while(numero < 270):\n",
    "    if(data.HomeTeam[9284 + numero] == 'Villarreal'):\n",
    "        if(data.FTR[9284 + numero] == 'H'):\n",
    "            VILvictories += 1\n",
    "        elif(data.FTR[9284 + numero] == 'D'):\n",
    "            VILdraw += 1\n",
    "        elif(data.FTR[9284 + numero] == 'A'):\n",
    "            VILdefeats += 1\n",
    "    numero += 1\n",
    "    \n",
    "\n",
    "#REAL BETIS RESULTADOS COMO LOCAL     \n",
    "numero = 0 \n",
    "BETvictories = 0 \n",
    "BETdefeats = 0\n",
    "BETdraw = 0\n",
    "while(numero < 380):\n",
    "    if(data.HomeTeam[8524 + numero] == 'Betis'):\n",
    "        if(data.FTR[8524 + numero] == 'H'):\n",
    "            BETvictories += 1\n",
    "        elif(data.FTR[8524 + numero] == 'D'):\n",
    "            BETdraw += 1\n",
    "        elif(data.FTR[8524 + numero] == 'A'):\n",
    "            BETdefeats += 1\n",
    "    numero += 1\n",
    "numero = 0 \n",
    "while(numero < 380):\n",
    "    if(data.HomeTeam[8904 + numero] == 'Betis'):\n",
    "        if(data.FTR[8904 + numero] == 'H'):\n",
    "            BETvictories += 1\n",
    "        elif(data.FTR[8904 + numero] == 'D'):\n",
    "            BETdraw += 1\n",
    "        elif(data.FTR[8904 + numero] == 'A'):\n",
    "            BETdefeats += 1\n",
    "    numero += 1\n",
    "numero = 0 \n",
    "while(numero < 270):\n",
    "    if(data.HomeTeam[9284 + numero] == 'Betis'):\n",
    "        if(data.FTR[9284 + numero] == 'H'):\n",
    "            BETvictories += 1\n",
    "        elif(data.FTR[9284 + numero] == 'D'):\n",
    "            BETdraw += 1\n",
    "        elif(data.FTR[9284 + numero] == 'A'):\n",
    "            BETdefeats += 1\n",
    "    numero += 1\n",
    "    \n",
    "\n",
    "#SEVILLA RESULTADOS COMO LOCAL     \n",
    "numero = 0 \n",
    "SEVvictories = 0 \n",
    "SEVdefeats = 0\n",
    "SEVdraw = 0\n",
    "while(numero < 380):\n",
    "    if(data.HomeTeam[8524 + numero] == 'Sevilla'):\n",
    "        if(data.FTR[8524 + numero] == 'H'):\n",
    "            SEVvictories += 1\n",
    "        elif(data.FTR[8524 + numero] == 'D'):\n",
    "            SEVdraw += 1\n",
    "        elif(data.FTR[8524 + numero] == 'A'):\n",
    "            SEVdefeats += 1\n",
    "    numero += 1\n",
    "numero = 0 \n",
    "while(numero < 380):\n",
    "    if(data.HomeTeam[8904 + numero] == 'Sevilla'):\n",
    "        if(data.FTR[8904 + numero] == 'H'):\n",
    "            SEVvictories += 1\n",
    "        elif(data.FTR[8904 + numero] == 'D'):\n",
    "            SEVdraw += 1\n",
    "        elif(data.FTR[8904 + numero] == 'A'):\n",
    "            SEVdefeats += 1\n",
    "    numero += 1\n",
    "numero = 0 \n",
    "while(numero < 270):\n",
    "    if(data.HomeTeam[9284 + numero] == 'Sevilla'):\n",
    "        if(data.FTR[9284 + numero] == 'H'):\n",
    "            SEVvictories += 1\n",
    "        elif(data.FTR[9284 + numero] == 'D'):\n",
    "            SEVdraw += 1\n",
    "        elif(data.FTR[9284 + numero] == 'A'):\n",
    "            SEVdefeats += 1\n",
    "    numero += 1\n",
    "\n",
    "    \n",
    "#GETAFE RESULTADOS COMO LOCAL     \n",
    "numero = 0 \n",
    "GETvictories = 0 \n",
    "GETdefeats = 0\n",
    "GETdraw = 0\n",
    "while(numero < 380):\n",
    "    if(data.HomeTeam[8524 + numero] == 'Getafe'):\n",
    "        if(data.FTR[8524 + numero] == 'H'):\n",
    "            GETvictories += 1\n",
    "        elif(data.FTR[8524 + numero] == 'D'):\n",
    "            GETdraw += 1\n",
    "        elif(data.FTR[8524 + numero] == 'A'):\n",
    "            GETdefeats += 1\n",
    "    numero += 1\n",
    "numero = 0 \n",
    "while(numero < 380):\n",
    "    if(data.HomeTeam[8904 + numero] == 'Getafe'):\n",
    "        if(data.FTR[8904 + numero] == 'H'):\n",
    "            GETvictories += 1\n",
    "        elif(data.FTR[8904 + numero] == 'D'):\n",
    "            GETdraw += 1\n",
    "        elif(data.FTR[8904 + numero] == 'A'):\n",
    "            GETdefeats += 1\n",
    "    numero += 1\n",
    "numero = 0 \n",
    "while(numero < 270):\n",
    "    if(data.HomeTeam[9284 + numero] == 'Getafe'):\n",
    "        if(data.FTR[9284 + numero] == 'H'):\n",
    "            GETvictories += 1\n",
    "        elif(data.FTR[9284 + numero] == 'D'):\n",
    "            GETdraw += 1\n",
    "        elif(data.FTR[9284 + numero] == 'A'):\n",
    "            GETdefeats += 1\n",
    "    numero += 1\n",
    "    \n",
    "    \n",
    "#REAL ESPANYOL RESULTADOS COMO LOCAL     \n",
    "numero = 0 \n",
    "ESPvictories = 0 \n",
    "ESPdefeats = 0\n",
    "ESPdraw = 0\n",
    "while(numero < 380):\n",
    "    if(data.HomeTeam[8524 + numero] == 'Espanol'):\n",
    "        if(data.FTR[8524 + numero] == 'H'):\n",
    "            ESPvictories += 1\n",
    "        elif(data.FTR[8524 + numero] == 'D'):\n",
    "            ESPdraw += 1\n",
    "        elif(data.FTR[8524 + numero] == 'A'):\n",
    "            ESPdefeats += 1\n",
    "    numero += 1\n",
    "numero = 0 \n",
    "while(numero < 380):\n",
    "    if(data.HomeTeam[8904 + numero] == 'Espanol'):\n",
    "        if(data.FTR[8904 + numero] == 'H'):\n",
    "            ESPvictories += 1\n",
    "        elif(data.FTR[8904 + numero] == 'D'):\n",
    "            ESPdraw += 1\n",
    "        elif(data.FTR[8904 + numero] == 'A'):\n",
    "            ESPdefeats += 1\n",
    "    numero += 1\n",
    "numero = 0 \n",
    "while(numero < 270):\n",
    "    if(data.HomeTeam[9284 + numero] == 'Espanol'):\n",
    "        if(data.FTR[9284 + numero] == 'H'):\n",
    "            ESPvictories += 1\n",
    "        elif(data.FTR[9284 + numero] == 'D'):\n",
    "            ESPdraw += 1\n",
    "        elif(data.FTR[9284 + numero] == 'A'):\n",
    "            ESPdefeats += 1\n",
    "    numero += 1\n",
    "    \n",
    "#REAL SOCIEDAD RESULTADOS COMO LOCAL     \n",
    "numero = 0 \n",
    "REAvictories = 0 \n",
    "REAdefeats = 0\n",
    "REAdraw = 0\n",
    "while(numero < 380):\n",
    "    if(data.HomeTeam[8524 + numero] == 'Sociedad'):\n",
    "        if(data.FTR[8524 + numero] == 'H'):\n",
    "            REAvictories += 1\n",
    "        elif(data.FTR[8524 + numero] == 'D'):\n",
    "            REAdraw += 1\n",
    "        elif(data.FTR[8524 + numero] == 'A'):\n",
    "            REAdefeats += 1\n",
    "    numero += 1\n",
    "numero = 0 \n",
    "while(numero < 380):\n",
    "    if(data.HomeTeam[8904 + numero] == 'Sociedad'):\n",
    "        if(data.FTR[8904 + numero] == 'H'):\n",
    "            REAvictories += 1\n",
    "        elif(data.FTR[8904 + numero] == 'D'):\n",
    "            REAdraw += 1\n",
    "        elif(data.FTR[8904 + numero] == 'A'):\n",
    "            REAdefeats += 1\n",
    "    numero += 1\n",
    "numero = 0 \n",
    "while(numero < 270):\n",
    "    if(data.HomeTeam[9284 + numero] == 'Sociedad'):\n",
    "        if(data.FTR[9284 + numero] == 'H'):\n",
    "            REAvictories += 1\n",
    "        elif(data.FTR[9284 + numero] == 'D'):\n",
    "            REAdraw += 1\n",
    "        elif(data.FTR[9284 + numero] == 'A'):\n",
    "            REAdefeats += 1\n",
    "    numero += 1\n",
    "\n",
    "#ALAVES RESULTADOS COMO LOCAL \n",
    "numero = 0 \n",
    "ALAvictories = 0 \n",
    "ALAdefeats = 0\n",
    "ALAdraw = 0\n",
    "while(numero < 380):\n",
    "    if(data.HomeTeam[8524 + numero] == 'Alaves'):\n",
    "        if(data.FTR[8524 + numero] == 'H'):\n",
    "            ALAvictories += 1\n",
    "        elif(data.FTR[8524 + numero] == 'D'):\n",
    "            ALAdraw += 1\n",
    "        elif(data.FTR[8524 + numero] == 'A'):\n",
    "            ALAdefeats += 1\n",
    "    numero += 1\n",
    "numero = 0 \n",
    "while(numero < 380):\n",
    "    if(data.HomeTeam[8904 + numero] == 'Alaves'):\n",
    "        if(data.FTR[8904 + numero] == 'H'):\n",
    "            ALAvictories += 1\n",
    "        elif(data.FTR[8904 + numero] == 'D'):\n",
    "            ALAdraw += 1\n",
    "        elif(data.FTR[8904 + numero] == 'A'):\n",
    "            ALAdefeats += 1\n",
    "    numero += 1\n",
    "numero = 0 \n",
    "while(numero < 270):\n",
    "    if(data.HomeTeam[9284 + numero] == 'Alaves'):\n",
    "        if(data.FTR[9284 + numero] == 'H'):\n",
    "            ALAvictories += 1\n",
    "        elif(data.FTR[9284 + numero] == 'D'):\n",
    "            ALAdraw += 1\n",
    "        elif(data.FTR[9284 + numero] == 'A'):\n",
    "            ALAdefeats += 1\n",
    "    numero += 1\n",
    "\n",
    "#LEVANTE RESULTADOS COMO LOCAL \n",
    "numero = 0 \n",
    "LEVvictories = 0 \n",
    "LEVdefeats = 0\n",
    "LEVdraw = 0\n",
    "while(numero < 380):\n",
    "    if(data.HomeTeam[8524 + numero] == 'Levante'):\n",
    "        if(data.FTR[8524 + numero] == 'H'):\n",
    "            LEVvictories += 1\n",
    "        elif(data.FTR[8524 + numero] == 'D'):\n",
    "            LEVdraw += 1\n",
    "        elif(data.FTR[8524 + numero] == 'A'):\n",
    "            LEVdefeats += 1\n",
    "    numero += 1\n",
    "numero = 0 \n",
    "while(numero < 380):\n",
    "    if(data.HomeTeam[8904 + numero] == 'Levante'):\n",
    "        if(data.FTR[8904 + numero] == 'H'):\n",
    "            LEVvictories += 1\n",
    "        elif(data.FTR[8904 + numero] == 'D'):\n",
    "            LEVdraw += 1\n",
    "        elif(data.FTR[8904 + numero] == 'A'):\n",
    "            LEVdefeats += 1\n",
    "    numero += 1\n",
    "numero = 0 \n",
    "while(numero < 270):\n",
    "    if(data.HomeTeam[9284 + numero] == 'Levante'):\n",
    "        if(data.FTR[9284 + numero] == 'H'):\n",
    "            LEVvictories += 1\n",
    "        elif(data.FTR[9284 + numero] == 'D'):\n",
    "            LEVdraw += 1\n",
    "        elif(data.FTR[9284 + numero] == 'A'):\n",
    "            LEVdefeats += 1\n",
    "    numero += 1\n",
    "\n",
    "#ATHLETIC RESULTADOS COMO LOCAL \n",
    "numero = 0 \n",
    "ATHvictories = 0 \n",
    "ATHdefeats = 0\n",
    "ATHdraw = 0\n",
    "while(numero < 380):\n",
    "    if(data.HomeTeam[8524 + numero] == 'Ath Bilbao'):\n",
    "        if(data.FTR[8524 + numero] == 'H'):\n",
    "            ATHvictories += 1\n",
    "        elif(data.FTR[8524 + numero] == 'D'):\n",
    "            ATHdraw += 1\n",
    "        elif(data.FTR[8524 + numero] == 'A'):\n",
    "            ATHdefeats += 1\n",
    "    numero += 1\n",
    "numero = 0 \n",
    "while(numero < 380):\n",
    "    if(data.HomeTeam[8904 + numero] == 'Ath Bilbao'):\n",
    "        if(data.FTR[8904 + numero] == 'H'):\n",
    "            ATHvictories += 1\n",
    "        elif(data.FTR[8904 + numero] == 'D'):\n",
    "            ATHdraw += 1\n",
    "        elif(data.FTR[8904 + numero] == 'A'):\n",
    "            ATHdefeats += 1\n",
    "    numero += 1\n",
    "numero = 0 \n",
    "while(numero < 270):\n",
    "    if(data.HomeTeam[9284 + numero] == 'Ath Bilbao'):\n",
    "        if(data.FTR[9284 + numero] == 'H'):\n",
    "            ATHvictories += 1\n",
    "        elif(data.FTR[9284 + numero] == 'D'):\n",
    "            ATHdraw += 1\n",
    "        elif(data.FTR[9284 + numero] == 'A'):\n",
    "            ATHdefeats += 1\n",
    "    numero += 1\n",
    "    \n",
    "#LEGANES RESULTADOS COMO LOCAL \n",
    "numero = 0 \n",
    "LEGvictories = 0 \n",
    "LEGdefeats = 0\n",
    "LEGdraw = 0\n",
    "while(numero < 380):\n",
    "    if(data.HomeTeam[8524 + numero] == 'Leganes'):\n",
    "        if(data.FTR[8524 + numero] == 'H'):\n",
    "            LEGvictories += 1\n",
    "        elif(data.FTR[8524 + numero] == 'D'):\n",
    "            LEGdraw += 1\n",
    "        elif(data.FTR[8524 + numero] == 'A'):\n",
    "            LEGdefeats += 1\n",
    "    numero += 1\n",
    "numero = 0 \n",
    "while(numero < 380):\n",
    "    if(data.HomeTeam[8904 + numero] == 'Leganes'):\n",
    "        if(data.FTR[8904 + numero] == 'H'):\n",
    "            LEGvictories += 1\n",
    "        elif(data.FTR[8904 + numero] == 'D'):\n",
    "            LEGdraw += 1\n",
    "        elif(data.FTR[8904 + numero] == 'A'):\n",
    "            LEGdefeats += 1\n",
    "    numero += 1\n",
    "numero = 0 \n",
    "while(numero < 270):\n",
    "    if(data.HomeTeam[9284 + numero] == 'Leganes'):\n",
    "        if(data.FTR[9284 + numero] == 'H'):\n",
    "            LEGvictories += 1\n",
    "        elif(data.FTR[9284 + numero] == 'D'):\n",
    "            LEGdraw += 1\n",
    "        elif(data.FTR[9284 + numero] == 'A'):\n",
    "            LEGdefeats += 1\n",
    "    numero += 1\n",
    "\n",
    "#REAL VALLALOID RESULTADOS COMO LOCAL \n",
    "numero = 0 \n",
    "RVLvictories = 0 \n",
    "RVLdefeats = 0\n",
    "RVLdraw = 0\n",
    "while(numero < 380):\n",
    "    if(data.HomeTeam[8524 + numero] == 'Valladolid'):\n",
    "        if(data.FTR[8524 + numero] == 'H'):\n",
    "            RVLvictories += 1\n",
    "        elif(data.FTR[8524 + numero] == 'D'):\n",
    "            RVLdraw += 1\n",
    "        elif(data.FTR[8524 + numero] == 'A'):\n",
    "            RVLdefeats += 1\n",
    "    numero += 1\n",
    "numero = 0 \n",
    "while(numero < 380):\n",
    "    if(data.HomeTeam[8904 + numero] == 'Valladolid'):\n",
    "        if(data.FTR[8904 + numero] == 'H'):\n",
    "            RVLvictories += 1\n",
    "        elif(data.FTR[8904 + numero] == 'D'):\n",
    "            RVLdraw += 1\n",
    "        elif(data.FTR[8904 + numero] == 'A'):\n",
    "            RVLdefeats += 1\n",
    "    numero += 1\n",
    "numero = 0 \n",
    "while(numero < 270):\n",
    "    if(data.HomeTeam[9284 + numero] == 'Valladolid'):\n",
    "        if(data.FTR[9284 + numero] == 'H'):\n",
    "            RVLvictories += 1\n",
    "        elif(data.FTR[9284 + numero] == 'D'):\n",
    "            RVLdraw += 1\n",
    "        elif(data.FTR[9284 + numero] == 'A'):\n",
    "            RVLdefeats += 1\n",
    "    numero += 1\n",
    "\n",
    "#CELTA RESULTADOS COMO LOCAL \n",
    "numero = 0 \n",
    "CELvictories = 0 \n",
    "CELdefeats = 0\n",
    "CELdraw = 0\n",
    "while(numero < 380):\n",
    "    if(data.HomeTeam[8524 + numero] == 'Celta'):\n",
    "        if(data.FTR[8524 + numero] == 'H'):\n",
    "            CELvictories += 1\n",
    "        elif(data.FTR[8524 + numero] == 'D'):\n",
    "            CELdraw += 1\n",
    "        elif(data.FTR[8524 + numero] == 'A'):\n",
    "            CELdefeats += 1\n",
    "    numero += 1\n",
    "numero = 0 \n",
    "while(numero < 380):\n",
    "    if(data.HomeTeam[8904 + numero] == 'Celta'):\n",
    "        if(data.FTR[8904 + numero] == 'H'):\n",
    "            CELvictories += 1\n",
    "        elif(data.FTR[8904 + numero] == 'D'):\n",
    "            CELdraw += 1\n",
    "        elif(data.FTR[8904 + numero] == 'A'):\n",
    "            CELdefeats += 1\n",
    "    numero += 1\n",
    "numero = 0 \n",
    "while(numero < 270):\n",
    "    if(data.HomeTeam[9284 + numero] == 'Celta'):\n",
    "        if(data.FTR[9284 + numero] == 'H'):\n",
    "            CELvictories += 1\n",
    "        elif(data.FTR[9284 + numero] == 'D'):\n",
    "            CELdraw += 1\n",
    "        elif(data.FTR[9284 + numero] == 'A'):\n",
    "            CELdefeats += 1\n",
    "    numero += 1"
   ]
  },
  {
   "cell_type": "code",
   "execution_count": 42,
   "metadata": {},
   "outputs": [
    {
     "data": {
      "application/vnd.plotly.v1+json": {
       "config": {
        "plotlyServerURL": "https://plot.ly"
       },
       "data": [
        {
         "name": "Victorias",
         "type": "bar",
         "x": [
          "BAR",
          "ATM",
          "RMA",
          "VAL",
          "VIL",
          "BET",
          "SEV",
          "GET",
          "ESP",
          "REA",
          "ALA",
          "LEV",
          "ATH",
          "LEG",
          "RVL",
          "CEL"
         ],
         "y": [
          44,
          35,
          34,
          28,
          22,
          25,
          29,
          27,
          20,
          25,
          22,
          20,
          22,
          20,
          8,
          20
         ]
        },
        {
         "name": "Empates",
         "type": "bar",
         "x": [
          "BAR",
          "ATM",
          "RMA",
          "VAL",
          "VIL",
          "BET",
          "SEV",
          "GET",
          "ESP",
          "REA",
          "ALA",
          "LEV",
          "ATH",
          "LEG",
          "RVL",
          "CEL"
         ],
         "y": [
          7,
          14,
          9,
          19,
          15,
          12,
          13,
          11,
          14,
          11,
          14,
          16,
          19,
          15,
          12,
          18
         ]
        },
        {
         "name": "Derrotas",
         "type": "bar",
         "x": [
          "BAR",
          "ATM",
          "RMA",
          "VAL",
          "VIL",
          "BET",
          "SEV",
          "GET",
          "ESP",
          "REA",
          "ALA",
          "LEV",
          "ATH",
          "LEG",
          "RVL",
          "CEL"
         ],
         "y": [
          1,
          3,
          8,
          5,
          14,
          15,
          9,
          14,
          17,
          15,
          16,
          15,
          10,
          15,
          12,
          18
         ]
        }
       ],
       "layout": {
        "barmode": "stack",
        "template": {
         "data": {
          "bar": [
           {
            "error_x": {
             "color": "#2a3f5f"
            },
            "error_y": {
             "color": "#2a3f5f"
            },
            "marker": {
             "line": {
              "color": "#E5ECF6",
              "width": 0.5
             }
            },
            "type": "bar"
           }
          ],
          "barpolar": [
           {
            "marker": {
             "line": {
              "color": "#E5ECF6",
              "width": 0.5
             }
            },
            "type": "barpolar"
           }
          ],
          "carpet": [
           {
            "aaxis": {
             "endlinecolor": "#2a3f5f",
             "gridcolor": "white",
             "linecolor": "white",
             "minorgridcolor": "white",
             "startlinecolor": "#2a3f5f"
            },
            "baxis": {
             "endlinecolor": "#2a3f5f",
             "gridcolor": "white",
             "linecolor": "white",
             "minorgridcolor": "white",
             "startlinecolor": "#2a3f5f"
            },
            "type": "carpet"
           }
          ],
          "choropleth": [
           {
            "colorbar": {
             "outlinewidth": 0,
             "ticks": ""
            },
            "type": "choropleth"
           }
          ],
          "contour": [
           {
            "colorbar": {
             "outlinewidth": 0,
             "ticks": ""
            },
            "colorscale": [
             [
              0,
              "#0d0887"
             ],
             [
              0.1111111111111111,
              "#46039f"
             ],
             [
              0.2222222222222222,
              "#7201a8"
             ],
             [
              0.3333333333333333,
              "#9c179e"
             ],
             [
              0.4444444444444444,
              "#bd3786"
             ],
             [
              0.5555555555555556,
              "#d8576b"
             ],
             [
              0.6666666666666666,
              "#ed7953"
             ],
             [
              0.7777777777777778,
              "#fb9f3a"
             ],
             [
              0.8888888888888888,
              "#fdca26"
             ],
             [
              1,
              "#f0f921"
             ]
            ],
            "type": "contour"
           }
          ],
          "contourcarpet": [
           {
            "colorbar": {
             "outlinewidth": 0,
             "ticks": ""
            },
            "type": "contourcarpet"
           }
          ],
          "heatmap": [
           {
            "colorbar": {
             "outlinewidth": 0,
             "ticks": ""
            },
            "colorscale": [
             [
              0,
              "#0d0887"
             ],
             [
              0.1111111111111111,
              "#46039f"
             ],
             [
              0.2222222222222222,
              "#7201a8"
             ],
             [
              0.3333333333333333,
              "#9c179e"
             ],
             [
              0.4444444444444444,
              "#bd3786"
             ],
             [
              0.5555555555555556,
              "#d8576b"
             ],
             [
              0.6666666666666666,
              "#ed7953"
             ],
             [
              0.7777777777777778,
              "#fb9f3a"
             ],
             [
              0.8888888888888888,
              "#fdca26"
             ],
             [
              1,
              "#f0f921"
             ]
            ],
            "type": "heatmap"
           }
          ],
          "heatmapgl": [
           {
            "colorbar": {
             "outlinewidth": 0,
             "ticks": ""
            },
            "colorscale": [
             [
              0,
              "#0d0887"
             ],
             [
              0.1111111111111111,
              "#46039f"
             ],
             [
              0.2222222222222222,
              "#7201a8"
             ],
             [
              0.3333333333333333,
              "#9c179e"
             ],
             [
              0.4444444444444444,
              "#bd3786"
             ],
             [
              0.5555555555555556,
              "#d8576b"
             ],
             [
              0.6666666666666666,
              "#ed7953"
             ],
             [
              0.7777777777777778,
              "#fb9f3a"
             ],
             [
              0.8888888888888888,
              "#fdca26"
             ],
             [
              1,
              "#f0f921"
             ]
            ],
            "type": "heatmapgl"
           }
          ],
          "histogram": [
           {
            "marker": {
             "colorbar": {
              "outlinewidth": 0,
              "ticks": ""
             }
            },
            "type": "histogram"
           }
          ],
          "histogram2d": [
           {
            "colorbar": {
             "outlinewidth": 0,
             "ticks": ""
            },
            "colorscale": [
             [
              0,
              "#0d0887"
             ],
             [
              0.1111111111111111,
              "#46039f"
             ],
             [
              0.2222222222222222,
              "#7201a8"
             ],
             [
              0.3333333333333333,
              "#9c179e"
             ],
             [
              0.4444444444444444,
              "#bd3786"
             ],
             [
              0.5555555555555556,
              "#d8576b"
             ],
             [
              0.6666666666666666,
              "#ed7953"
             ],
             [
              0.7777777777777778,
              "#fb9f3a"
             ],
             [
              0.8888888888888888,
              "#fdca26"
             ],
             [
              1,
              "#f0f921"
             ]
            ],
            "type": "histogram2d"
           }
          ],
          "histogram2dcontour": [
           {
            "colorbar": {
             "outlinewidth": 0,
             "ticks": ""
            },
            "colorscale": [
             [
              0,
              "#0d0887"
             ],
             [
              0.1111111111111111,
              "#46039f"
             ],
             [
              0.2222222222222222,
              "#7201a8"
             ],
             [
              0.3333333333333333,
              "#9c179e"
             ],
             [
              0.4444444444444444,
              "#bd3786"
             ],
             [
              0.5555555555555556,
              "#d8576b"
             ],
             [
              0.6666666666666666,
              "#ed7953"
             ],
             [
              0.7777777777777778,
              "#fb9f3a"
             ],
             [
              0.8888888888888888,
              "#fdca26"
             ],
             [
              1,
              "#f0f921"
             ]
            ],
            "type": "histogram2dcontour"
           }
          ],
          "mesh3d": [
           {
            "colorbar": {
             "outlinewidth": 0,
             "ticks": ""
            },
            "type": "mesh3d"
           }
          ],
          "parcoords": [
           {
            "line": {
             "colorbar": {
              "outlinewidth": 0,
              "ticks": ""
             }
            },
            "type": "parcoords"
           }
          ],
          "pie": [
           {
            "automargin": true,
            "type": "pie"
           }
          ],
          "scatter": [
           {
            "marker": {
             "colorbar": {
              "outlinewidth": 0,
              "ticks": ""
             }
            },
            "type": "scatter"
           }
          ],
          "scatter3d": [
           {
            "line": {
             "colorbar": {
              "outlinewidth": 0,
              "ticks": ""
             }
            },
            "marker": {
             "colorbar": {
              "outlinewidth": 0,
              "ticks": ""
             }
            },
            "type": "scatter3d"
           }
          ],
          "scattercarpet": [
           {
            "marker": {
             "colorbar": {
              "outlinewidth": 0,
              "ticks": ""
             }
            },
            "type": "scattercarpet"
           }
          ],
          "scattergeo": [
           {
            "marker": {
             "colorbar": {
              "outlinewidth": 0,
              "ticks": ""
             }
            },
            "type": "scattergeo"
           }
          ],
          "scattergl": [
           {
            "marker": {
             "colorbar": {
              "outlinewidth": 0,
              "ticks": ""
             }
            },
            "type": "scattergl"
           }
          ],
          "scattermapbox": [
           {
            "marker": {
             "colorbar": {
              "outlinewidth": 0,
              "ticks": ""
             }
            },
            "type": "scattermapbox"
           }
          ],
          "scatterpolar": [
           {
            "marker": {
             "colorbar": {
              "outlinewidth": 0,
              "ticks": ""
             }
            },
            "type": "scatterpolar"
           }
          ],
          "scatterpolargl": [
           {
            "marker": {
             "colorbar": {
              "outlinewidth": 0,
              "ticks": ""
             }
            },
            "type": "scatterpolargl"
           }
          ],
          "scatterternary": [
           {
            "marker": {
             "colorbar": {
              "outlinewidth": 0,
              "ticks": ""
             }
            },
            "type": "scatterternary"
           }
          ],
          "surface": [
           {
            "colorbar": {
             "outlinewidth": 0,
             "ticks": ""
            },
            "colorscale": [
             [
              0,
              "#0d0887"
             ],
             [
              0.1111111111111111,
              "#46039f"
             ],
             [
              0.2222222222222222,
              "#7201a8"
             ],
             [
              0.3333333333333333,
              "#9c179e"
             ],
             [
              0.4444444444444444,
              "#bd3786"
             ],
             [
              0.5555555555555556,
              "#d8576b"
             ],
             [
              0.6666666666666666,
              "#ed7953"
             ],
             [
              0.7777777777777778,
              "#fb9f3a"
             ],
             [
              0.8888888888888888,
              "#fdca26"
             ],
             [
              1,
              "#f0f921"
             ]
            ],
            "type": "surface"
           }
          ],
          "table": [
           {
            "cells": {
             "fill": {
              "color": "#EBF0F8"
             },
             "line": {
              "color": "white"
             }
            },
            "header": {
             "fill": {
              "color": "#C8D4E3"
             },
             "line": {
              "color": "white"
             }
            },
            "type": "table"
           }
          ]
         },
         "layout": {
          "annotationdefaults": {
           "arrowcolor": "#2a3f5f",
           "arrowhead": 0,
           "arrowwidth": 1
          },
          "coloraxis": {
           "colorbar": {
            "outlinewidth": 0,
            "ticks": ""
           }
          },
          "colorscale": {
           "diverging": [
            [
             0,
             "#8e0152"
            ],
            [
             0.1,
             "#c51b7d"
            ],
            [
             0.2,
             "#de77ae"
            ],
            [
             0.3,
             "#f1b6da"
            ],
            [
             0.4,
             "#fde0ef"
            ],
            [
             0.5,
             "#f7f7f7"
            ],
            [
             0.6,
             "#e6f5d0"
            ],
            [
             0.7,
             "#b8e186"
            ],
            [
             0.8,
             "#7fbc41"
            ],
            [
             0.9,
             "#4d9221"
            ],
            [
             1,
             "#276419"
            ]
           ],
           "sequential": [
            [
             0,
             "#0d0887"
            ],
            [
             0.1111111111111111,
             "#46039f"
            ],
            [
             0.2222222222222222,
             "#7201a8"
            ],
            [
             0.3333333333333333,
             "#9c179e"
            ],
            [
             0.4444444444444444,
             "#bd3786"
            ],
            [
             0.5555555555555556,
             "#d8576b"
            ],
            [
             0.6666666666666666,
             "#ed7953"
            ],
            [
             0.7777777777777778,
             "#fb9f3a"
            ],
            [
             0.8888888888888888,
             "#fdca26"
            ],
            [
             1,
             "#f0f921"
            ]
           ],
           "sequentialminus": [
            [
             0,
             "#0d0887"
            ],
            [
             0.1111111111111111,
             "#46039f"
            ],
            [
             0.2222222222222222,
             "#7201a8"
            ],
            [
             0.3333333333333333,
             "#9c179e"
            ],
            [
             0.4444444444444444,
             "#bd3786"
            ],
            [
             0.5555555555555556,
             "#d8576b"
            ],
            [
             0.6666666666666666,
             "#ed7953"
            ],
            [
             0.7777777777777778,
             "#fb9f3a"
            ],
            [
             0.8888888888888888,
             "#fdca26"
            ],
            [
             1,
             "#f0f921"
            ]
           ]
          },
          "colorway": [
           "#636efa",
           "#EF553B",
           "#00cc96",
           "#ab63fa",
           "#FFA15A",
           "#19d3f3",
           "#FF6692",
           "#B6E880",
           "#FF97FF",
           "#FECB52"
          ],
          "font": {
           "color": "#2a3f5f"
          },
          "geo": {
           "bgcolor": "white",
           "lakecolor": "white",
           "landcolor": "#E5ECF6",
           "showlakes": true,
           "showland": true,
           "subunitcolor": "white"
          },
          "hoverlabel": {
           "align": "left"
          },
          "hovermode": "closest",
          "mapbox": {
           "style": "light"
          },
          "paper_bgcolor": "white",
          "plot_bgcolor": "#E5ECF6",
          "polar": {
           "angularaxis": {
            "gridcolor": "white",
            "linecolor": "white",
            "ticks": ""
           },
           "bgcolor": "#E5ECF6",
           "radialaxis": {
            "gridcolor": "white",
            "linecolor": "white",
            "ticks": ""
           }
          },
          "scene": {
           "xaxis": {
            "backgroundcolor": "#E5ECF6",
            "gridcolor": "white",
            "gridwidth": 2,
            "linecolor": "white",
            "showbackground": true,
            "ticks": "",
            "zerolinecolor": "white"
           },
           "yaxis": {
            "backgroundcolor": "#E5ECF6",
            "gridcolor": "white",
            "gridwidth": 2,
            "linecolor": "white",
            "showbackground": true,
            "ticks": "",
            "zerolinecolor": "white"
           },
           "zaxis": {
            "backgroundcolor": "#E5ECF6",
            "gridcolor": "white",
            "gridwidth": 2,
            "linecolor": "white",
            "showbackground": true,
            "ticks": "",
            "zerolinecolor": "white"
           }
          },
          "shapedefaults": {
           "line": {
            "color": "#2a3f5f"
           }
          },
          "ternary": {
           "aaxis": {
            "gridcolor": "white",
            "linecolor": "white",
            "ticks": ""
           },
           "baxis": {
            "gridcolor": "white",
            "linecolor": "white",
            "ticks": ""
           },
           "bgcolor": "#E5ECF6",
           "caxis": {
            "gridcolor": "white",
            "linecolor": "white",
            "ticks": ""
           }
          },
          "title": {
           "x": 0.05
          },
          "xaxis": {
           "automargin": true,
           "gridcolor": "white",
           "linecolor": "white",
           "ticks": "",
           "title": {
            "standoff": 15
           },
           "zerolinecolor": "white",
           "zerolinewidth": 2
          },
          "yaxis": {
           "automargin": true,
           "gridcolor": "white",
           "linecolor": "white",
           "ticks": "",
           "title": {
            "standoff": 15
           },
           "zerolinecolor": "white",
           "zerolinewidth": 2
          }
         }
        },
        "xaxis": {
         "categoryorder": "total descending"
        }
       }
      },
      "text/html": [
       "<div>\n",
       "        \n",
       "        \n",
       "            <div id=\"894d7f5e-0b86-4e19-a2c3-7454c21b4df0\" class=\"plotly-graph-div\" style=\"height:525px; width:100%;\"></div>\n",
       "            <script type=\"text/javascript\">\n",
       "                require([\"plotly\"], function(Plotly) {\n",
       "                    window.PLOTLYENV=window.PLOTLYENV || {};\n",
       "                    \n",
       "                if (document.getElementById(\"894d7f5e-0b86-4e19-a2c3-7454c21b4df0\")) {\n",
       "                    Plotly.newPlot(\n",
       "                        '894d7f5e-0b86-4e19-a2c3-7454c21b4df0',\n",
       "                        [{\"name\": \"Victorias\", \"type\": \"bar\", \"x\": [\"BAR\", \"ATM\", \"RMA\", \"VAL\", \"VIL\", \"BET\", \"SEV\", \"GET\", \"ESP\", \"REA\", \"ALA\", \"LEV\", \"ATH\", \"LEG\", \"RVL\", \"CEL\"], \"y\": [44, 35, 34, 28, 22, 25, 29, 27, 20, 25, 22, 20, 22, 20, 8, 20]}, {\"name\": \"Empates\", \"type\": \"bar\", \"x\": [\"BAR\", \"ATM\", \"RMA\", \"VAL\", \"VIL\", \"BET\", \"SEV\", \"GET\", \"ESP\", \"REA\", \"ALA\", \"LEV\", \"ATH\", \"LEG\", \"RVL\", \"CEL\"], \"y\": [7, 14, 9, 19, 15, 12, 13, 11, 14, 11, 14, 16, 19, 15, 12, 18]}, {\"name\": \"Derrotas\", \"type\": \"bar\", \"x\": [\"BAR\", \"ATM\", \"RMA\", \"VAL\", \"VIL\", \"BET\", \"SEV\", \"GET\", \"ESP\", \"REA\", \"ALA\", \"LEV\", \"ATH\", \"LEG\", \"RVL\", \"CEL\"], \"y\": [1, 3, 8, 5, 14, 15, 9, 14, 17, 15, 16, 15, 10, 15, 12, 18]}],\n",
       "                        {\"barmode\": \"stack\", \"template\": {\"data\": {\"bar\": [{\"error_x\": {\"color\": \"#2a3f5f\"}, \"error_y\": {\"color\": \"#2a3f5f\"}, \"marker\": {\"line\": {\"color\": \"#E5ECF6\", \"width\": 0.5}}, \"type\": \"bar\"}], \"barpolar\": [{\"marker\": {\"line\": {\"color\": \"#E5ECF6\", \"width\": 0.5}}, \"type\": \"barpolar\"}], \"carpet\": [{\"aaxis\": {\"endlinecolor\": \"#2a3f5f\", \"gridcolor\": \"white\", \"linecolor\": \"white\", \"minorgridcolor\": \"white\", \"startlinecolor\": \"#2a3f5f\"}, \"baxis\": {\"endlinecolor\": \"#2a3f5f\", \"gridcolor\": \"white\", \"linecolor\": \"white\", \"minorgridcolor\": \"white\", \"startlinecolor\": \"#2a3f5f\"}, \"type\": \"carpet\"}], \"choropleth\": [{\"colorbar\": {\"outlinewidth\": 0, \"ticks\": \"\"}, \"type\": \"choropleth\"}], \"contour\": [{\"colorbar\": {\"outlinewidth\": 0, \"ticks\": \"\"}, \"colorscale\": [[0.0, \"#0d0887\"], [0.1111111111111111, \"#46039f\"], [0.2222222222222222, \"#7201a8\"], [0.3333333333333333, \"#9c179e\"], [0.4444444444444444, \"#bd3786\"], [0.5555555555555556, \"#d8576b\"], [0.6666666666666666, \"#ed7953\"], [0.7777777777777778, \"#fb9f3a\"], [0.8888888888888888, \"#fdca26\"], [1.0, \"#f0f921\"]], \"type\": \"contour\"}], \"contourcarpet\": [{\"colorbar\": {\"outlinewidth\": 0, \"ticks\": \"\"}, \"type\": \"contourcarpet\"}], \"heatmap\": [{\"colorbar\": {\"outlinewidth\": 0, \"ticks\": \"\"}, \"colorscale\": [[0.0, \"#0d0887\"], [0.1111111111111111, \"#46039f\"], [0.2222222222222222, \"#7201a8\"], [0.3333333333333333, \"#9c179e\"], [0.4444444444444444, \"#bd3786\"], [0.5555555555555556, \"#d8576b\"], [0.6666666666666666, \"#ed7953\"], [0.7777777777777778, \"#fb9f3a\"], [0.8888888888888888, \"#fdca26\"], [1.0, \"#f0f921\"]], \"type\": \"heatmap\"}], \"heatmapgl\": [{\"colorbar\": {\"outlinewidth\": 0, \"ticks\": \"\"}, \"colorscale\": [[0.0, \"#0d0887\"], [0.1111111111111111, \"#46039f\"], [0.2222222222222222, \"#7201a8\"], [0.3333333333333333, \"#9c179e\"], [0.4444444444444444, \"#bd3786\"], [0.5555555555555556, \"#d8576b\"], [0.6666666666666666, \"#ed7953\"], [0.7777777777777778, \"#fb9f3a\"], [0.8888888888888888, \"#fdca26\"], [1.0, \"#f0f921\"]], \"type\": \"heatmapgl\"}], \"histogram\": [{\"marker\": {\"colorbar\": {\"outlinewidth\": 0, \"ticks\": \"\"}}, \"type\": \"histogram\"}], \"histogram2d\": [{\"colorbar\": {\"outlinewidth\": 0, \"ticks\": \"\"}, \"colorscale\": [[0.0, \"#0d0887\"], [0.1111111111111111, \"#46039f\"], [0.2222222222222222, \"#7201a8\"], [0.3333333333333333, \"#9c179e\"], [0.4444444444444444, \"#bd3786\"], [0.5555555555555556, \"#d8576b\"], [0.6666666666666666, \"#ed7953\"], [0.7777777777777778, \"#fb9f3a\"], [0.8888888888888888, \"#fdca26\"], [1.0, \"#f0f921\"]], \"type\": \"histogram2d\"}], \"histogram2dcontour\": [{\"colorbar\": {\"outlinewidth\": 0, \"ticks\": \"\"}, \"colorscale\": [[0.0, \"#0d0887\"], [0.1111111111111111, \"#46039f\"], [0.2222222222222222, \"#7201a8\"], [0.3333333333333333, \"#9c179e\"], [0.4444444444444444, \"#bd3786\"], [0.5555555555555556, \"#d8576b\"], [0.6666666666666666, \"#ed7953\"], [0.7777777777777778, \"#fb9f3a\"], [0.8888888888888888, \"#fdca26\"], [1.0, \"#f0f921\"]], \"type\": \"histogram2dcontour\"}], \"mesh3d\": [{\"colorbar\": {\"outlinewidth\": 0, \"ticks\": \"\"}, \"type\": \"mesh3d\"}], \"parcoords\": [{\"line\": {\"colorbar\": {\"outlinewidth\": 0, \"ticks\": \"\"}}, \"type\": \"parcoords\"}], \"pie\": [{\"automargin\": true, \"type\": \"pie\"}], \"scatter\": [{\"marker\": {\"colorbar\": {\"outlinewidth\": 0, \"ticks\": \"\"}}, \"type\": \"scatter\"}], \"scatter3d\": [{\"line\": {\"colorbar\": {\"outlinewidth\": 0, \"ticks\": \"\"}}, \"marker\": {\"colorbar\": {\"outlinewidth\": 0, \"ticks\": \"\"}}, \"type\": \"scatter3d\"}], \"scattercarpet\": [{\"marker\": {\"colorbar\": {\"outlinewidth\": 0, \"ticks\": \"\"}}, \"type\": \"scattercarpet\"}], \"scattergeo\": [{\"marker\": {\"colorbar\": {\"outlinewidth\": 0, \"ticks\": \"\"}}, \"type\": \"scattergeo\"}], \"scattergl\": [{\"marker\": {\"colorbar\": {\"outlinewidth\": 0, \"ticks\": \"\"}}, \"type\": \"scattergl\"}], \"scattermapbox\": [{\"marker\": {\"colorbar\": {\"outlinewidth\": 0, \"ticks\": \"\"}}, \"type\": \"scattermapbox\"}], \"scatterpolar\": [{\"marker\": {\"colorbar\": {\"outlinewidth\": 0, \"ticks\": \"\"}}, \"type\": \"scatterpolar\"}], \"scatterpolargl\": [{\"marker\": {\"colorbar\": {\"outlinewidth\": 0, \"ticks\": \"\"}}, \"type\": \"scatterpolargl\"}], \"scatterternary\": [{\"marker\": {\"colorbar\": {\"outlinewidth\": 0, \"ticks\": \"\"}}, \"type\": \"scatterternary\"}], \"surface\": [{\"colorbar\": {\"outlinewidth\": 0, \"ticks\": \"\"}, \"colorscale\": [[0.0, \"#0d0887\"], [0.1111111111111111, \"#46039f\"], [0.2222222222222222, \"#7201a8\"], [0.3333333333333333, \"#9c179e\"], [0.4444444444444444, \"#bd3786\"], [0.5555555555555556, \"#d8576b\"], [0.6666666666666666, \"#ed7953\"], [0.7777777777777778, \"#fb9f3a\"], [0.8888888888888888, \"#fdca26\"], [1.0, \"#f0f921\"]], \"type\": \"surface\"}], \"table\": [{\"cells\": {\"fill\": {\"color\": \"#EBF0F8\"}, \"line\": {\"color\": \"white\"}}, \"header\": {\"fill\": {\"color\": \"#C8D4E3\"}, \"line\": {\"color\": \"white\"}}, \"type\": \"table\"}]}, \"layout\": {\"annotationdefaults\": {\"arrowcolor\": \"#2a3f5f\", \"arrowhead\": 0, \"arrowwidth\": 1}, \"coloraxis\": {\"colorbar\": {\"outlinewidth\": 0, \"ticks\": \"\"}}, \"colorscale\": {\"diverging\": [[0, \"#8e0152\"], [0.1, \"#c51b7d\"], [0.2, \"#de77ae\"], [0.3, \"#f1b6da\"], [0.4, \"#fde0ef\"], [0.5, \"#f7f7f7\"], [0.6, \"#e6f5d0\"], [0.7, \"#b8e186\"], [0.8, \"#7fbc41\"], [0.9, \"#4d9221\"], [1, \"#276419\"]], \"sequential\": [[0.0, \"#0d0887\"], [0.1111111111111111, \"#46039f\"], [0.2222222222222222, \"#7201a8\"], [0.3333333333333333, \"#9c179e\"], [0.4444444444444444, \"#bd3786\"], [0.5555555555555556, \"#d8576b\"], [0.6666666666666666, \"#ed7953\"], [0.7777777777777778, \"#fb9f3a\"], [0.8888888888888888, \"#fdca26\"], [1.0, \"#f0f921\"]], \"sequentialminus\": [[0.0, \"#0d0887\"], [0.1111111111111111, \"#46039f\"], [0.2222222222222222, \"#7201a8\"], [0.3333333333333333, \"#9c179e\"], [0.4444444444444444, \"#bd3786\"], [0.5555555555555556, \"#d8576b\"], [0.6666666666666666, \"#ed7953\"], [0.7777777777777778, \"#fb9f3a\"], [0.8888888888888888, \"#fdca26\"], [1.0, \"#f0f921\"]]}, \"colorway\": [\"#636efa\", \"#EF553B\", \"#00cc96\", \"#ab63fa\", \"#FFA15A\", \"#19d3f3\", \"#FF6692\", \"#B6E880\", \"#FF97FF\", \"#FECB52\"], \"font\": {\"color\": \"#2a3f5f\"}, \"geo\": {\"bgcolor\": \"white\", \"lakecolor\": \"white\", \"landcolor\": \"#E5ECF6\", \"showlakes\": true, \"showland\": true, \"subunitcolor\": \"white\"}, \"hoverlabel\": {\"align\": \"left\"}, \"hovermode\": \"closest\", \"mapbox\": {\"style\": \"light\"}, \"paper_bgcolor\": \"white\", \"plot_bgcolor\": \"#E5ECF6\", \"polar\": {\"angularaxis\": {\"gridcolor\": \"white\", \"linecolor\": \"white\", \"ticks\": \"\"}, \"bgcolor\": \"#E5ECF6\", \"radialaxis\": {\"gridcolor\": \"white\", \"linecolor\": \"white\", \"ticks\": \"\"}}, \"scene\": {\"xaxis\": {\"backgroundcolor\": \"#E5ECF6\", \"gridcolor\": \"white\", \"gridwidth\": 2, \"linecolor\": \"white\", \"showbackground\": true, \"ticks\": \"\", \"zerolinecolor\": \"white\"}, \"yaxis\": {\"backgroundcolor\": \"#E5ECF6\", \"gridcolor\": \"white\", \"gridwidth\": 2, \"linecolor\": \"white\", \"showbackground\": true, \"ticks\": \"\", \"zerolinecolor\": \"white\"}, \"zaxis\": {\"backgroundcolor\": \"#E5ECF6\", \"gridcolor\": \"white\", \"gridwidth\": 2, \"linecolor\": \"white\", \"showbackground\": true, \"ticks\": \"\", \"zerolinecolor\": \"white\"}}, \"shapedefaults\": {\"line\": {\"color\": \"#2a3f5f\"}}, \"ternary\": {\"aaxis\": {\"gridcolor\": \"white\", \"linecolor\": \"white\", \"ticks\": \"\"}, \"baxis\": {\"gridcolor\": \"white\", \"linecolor\": \"white\", \"ticks\": \"\"}, \"bgcolor\": \"#E5ECF6\", \"caxis\": {\"gridcolor\": \"white\", \"linecolor\": \"white\", \"ticks\": \"\"}}, \"title\": {\"x\": 0.05}, \"xaxis\": {\"automargin\": true, \"gridcolor\": \"white\", \"linecolor\": \"white\", \"ticks\": \"\", \"title\": {\"standoff\": 15}, \"zerolinecolor\": \"white\", \"zerolinewidth\": 2}, \"yaxis\": {\"automargin\": true, \"gridcolor\": \"white\", \"linecolor\": \"white\", \"ticks\": \"\", \"title\": {\"standoff\": 15}, \"zerolinecolor\": \"white\", \"zerolinewidth\": 2}}}, \"xaxis\": {\"categoryorder\": \"total descending\"}},\n",
       "                        {\"responsive\": true}\n",
       "                    ).then(function(){\n",
       "                            \n",
       "var gd = document.getElementById('894d7f5e-0b86-4e19-a2c3-7454c21b4df0');\n",
       "var x = new MutationObserver(function (mutations, observer) {{\n",
       "        var display = window.getComputedStyle(gd).display;\n",
       "        if (!display || display === 'none') {{\n",
       "            console.log([gd, 'removed!']);\n",
       "            Plotly.purge(gd);\n",
       "            observer.disconnect();\n",
       "        }}\n",
       "}});\n",
       "\n",
       "// Listen for the removal of the full notebook cells\n",
       "var notebookContainer = gd.closest('#notebook-container');\n",
       "if (notebookContainer) {{\n",
       "    x.observe(notebookContainer, {childList: true});\n",
       "}}\n",
       "\n",
       "// Listen for the clearing of the current output cell\n",
       "var outputEl = gd.closest('.output');\n",
       "if (outputEl) {{\n",
       "    x.observe(outputEl, {childList: true});\n",
       "}}\n",
       "\n",
       "                        })\n",
       "                };\n",
       "                });\n",
       "            </script>\n",
       "        </div>"
      ]
     },
     "metadata": {},
     "output_type": "display_data"
    }
   ],
   "source": [
    "import plotly.graph_objects as go\n",
    "\n",
    "x=['BAR', 'ATM', 'RMA', 'VAL', 'VIL', 'BET', 'SEV', 'GET', 'ESP', 'REA', \"ALA\", \"LEV\",\"ATH\", \"LEG\",\"RVL\",\"CEL\"]\n",
    "fig = go.Figure(go.Bar(x=x, y=[BARvictories, ATMvictories, RMAvictories, VALvictories, VILvictories, \n",
    "                               BETvictories, SEVvictories, GETvictories, ESPvictories, REAvictories, ALAvictories,\n",
    "                              LEVvictories, ATHvictories, LEGvictories, RVLvictories, CELvictories], name='Victorias'))\n",
    "fig.add_trace(go.Bar(x=x, y=[BARdraw, ATMdraw, RMAdraw, VALdraw, VILdraw, BETdraw, SEVdraw, GETdraw, \n",
    "                            ESPdraw, REAdraw, ALAdraw, LEVdraw, ATHdraw, LEGdraw, RVLdraw, CELdraw], name='Empates'))\n",
    "fig.add_trace(go.Bar(x=x, y=[BARdefeats, ATMdefeats, RMAdefeats, VALdefeats, VILdefeats, BETdefeats,\n",
    "                            SEVdefeats, GETdefeats, ESPdefeats, REAdefeats, ALAdefeats, LEVdefeats,\n",
    "                            ATHdefeats, LEGdraw, RVLdraw, CELdraw], name='Derrotas'))\n",
    "\n",
    "fig.update_layout(barmode='stack', xaxis={'categoryorder':'total descending'})\n",
    "fig.show()"
   ]
  },
  {
   "cell_type": "markdown",
   "metadata": {},
   "source": [
    "Para esta parte vamos a conocer el equipo mas campeón en cuando juega de visitante, lo cúal es importante ya que es un factor que directamente afecta en el resultado según la creencia popular del Football."
   ]
  },
  {
   "cell_type": "code",
   "execution_count": 43,
   "metadata": {},
   "outputs": [],
   "source": [
    "#BARCELONA RESULTADOS COMO VISITANTE \n",
    "numero = 0 \n",
    "BARvictories = 0 \n",
    "BARdefeats = 0\n",
    "BARdraw = 0\n",
    "while(numero < 380):\n",
    "    if(data.AwayTeam[8524 + numero] == 'Barcelona'):\n",
    "        if(data.FTR[8524 + numero] == 'H'):\n",
    "            BARdefeats += 1\n",
    "        elif(data.FTR[8524 + numero] == 'D'):\n",
    "            BARdraw += 1\n",
    "        elif(data.FTR[8524 + numero] == 'A'):\n",
    "            BARvictories += 1\n",
    "    numero += 1\n",
    "numero = 0 \n",
    "while(numero < 380):\n",
    "    if(data.AwayTeam[8904 + numero] == 'Barcelona'):\n",
    "        if(data.FTR[8904 + numero] == 'H'):\n",
    "            BARdefeats += 1\n",
    "        elif(data.FTR[8904 + numero] == 'D'):\n",
    "            BARdraw += 1\n",
    "        elif(data.FTR[8904 + numero] == 'A'):\n",
    "            BARvictories += 1\n",
    "    numero += 1\n",
    "numero = 0 \n",
    "while(numero < 270):\n",
    "    if(data.AwayTeam[9284 + numero] == 'Barcelona'):\n",
    "        if(data.FTR[9284 + numero] == 'H'):\n",
    "            BARdefeats += 1\n",
    "        elif(data.FTR[9284 + numero] == 'D'):\n",
    "            BARdraw += 1\n",
    "        elif(data.FTR[9284 + numero] == 'A'):\n",
    "            BARvictories += 1\n",
    "    numero += 1\n",
    "    \n",
    "    \n",
    "#ATLETICO DE MADRID RESULTADOS COMO VISITANTE     \n",
    "numero = 0 \n",
    "ATMvictories = 0 \n",
    "ATMdefeats = 0\n",
    "ATMdraw = 0\n",
    "while(numero < 380):\n",
    "    if(data.AwayTeam[8524 + numero] == 'Ath Madrid'):\n",
    "        if(data.FTR[8524 + numero] == 'H'):\n",
    "            ATMdefeats += 1\n",
    "        elif(data.FTR[8524 + numero] == 'D'):\n",
    "            ATMdraw += 1\n",
    "        elif(data.FTR[8524 + numero] == 'A'):\n",
    "            ATMvictories += 1\n",
    "    numero += 1\n",
    "numero = 0 \n",
    "while(numero < 380):\n",
    "    if(data.AwayTeam[8904 + numero] == 'Ath Madrid'):\n",
    "        if(data.FTR[8904 + numero] == 'H'):\n",
    "            ATMdefeats += 1\n",
    "        elif(data.FTR[8904 + numero] == 'D'):\n",
    "            ATMdraw += 1\n",
    "        elif(data.FTR[8904 + numero] == 'A'):\n",
    "            ATMvictories += 1\n",
    "    numero += 1\n",
    "numero = 0 \n",
    "while(numero < 270):\n",
    "    if(data.AwayTeam[9284 + numero] == 'Ath Madrid'):\n",
    "        if(data.FTR[9284 + numero] == 'H'):\n",
    "            ATMdefeats += 1\n",
    "        elif(data.FTR[9284 + numero] == 'D'):\n",
    "            ATMdraw += 1\n",
    "        elif(data.FTR[9284 + numero] == 'A'):\n",
    "            ATMvictories += 1\n",
    "    numero += 1\n",
    "\n",
    "\n",
    "#REAL MADRID RESULTADOS COMO VISITANTE     \n",
    "numero = 0 \n",
    "RMAvictories = 0 \n",
    "RMAdefeats = 0\n",
    "RMAdraw = 0\n",
    "while(numero < 380):\n",
    "    if(data.AwayTeam[8524 + numero] == \"Real Madrid\"):\n",
    "        if(data.FTR[8524 + numero] == 'H'):\n",
    "            RMAdefeats += 1\n",
    "        elif(data.FTR[8524 + numero] == 'D'):\n",
    "            RMAdraw += 1\n",
    "        elif(data.FTR[8524 + numero] == 'A'):\n",
    "            RMAvictories += 1\n",
    "    numero += 1\n",
    "numero = 0 \n",
    "while(numero < 380):\n",
    "    if(data.AwayTeam[8904 + numero] == \"Real Madrid\"):\n",
    "        if(data.FTR[8904 + numero] == 'H'):\n",
    "            RMAdefeats += 1\n",
    "        elif(data.FTR[8904 + numero] == 'D'):\n",
    "            RMAdraw += 1\n",
    "        elif(data.FTR[8904 + numero] == 'A'):\n",
    "            RMAvictories += 1\n",
    "    numero += 1\n",
    "numero = 0 \n",
    "while(numero < 270):\n",
    "    if(data.AwayTeam[9284 + numero] == \"Real Madrid\"):\n",
    "        if(data.FTR[9284 + numero] == 'H'):\n",
    "            RMAdefeats += 1\n",
    "        elif(data.FTR[9284 + numero] == 'D'):\n",
    "            RMAdraw += 1\n",
    "        elif(data.FTR[9284 + numero] == 'A'):\n",
    "            RMAvictories += 1\n",
    "    numero += 1\n",
    "    \n",
    "\n",
    "#VALENCIA RESULTADOS COMO VISITANTE     \n",
    "numero = 0 \n",
    "VALvictories = 0 \n",
    "VALdefeats = 0\n",
    "VALdraw = 0\n",
    "while(numero < 380):\n",
    "    if(data.AwayTeam[8524 + numero] == 'Valencia'):\n",
    "        if(data.FTR[8524 + numero] == 'H'):\n",
    "            VALdefeats += 1\n",
    "        elif(data.FTR[8524 + numero] == 'D'):\n",
    "            VALdraw += 1\n",
    "        elif(data.FTR[8524 + numero] == 'A'):\n",
    "            VALvictories += 1\n",
    "    numero += 1\n",
    "numero = 0 \n",
    "while(numero < 380):\n",
    "    if(data.AwayTeam[8904 + numero] == 'Valencia'):\n",
    "        if(data.FTR[8904 + numero] == 'H'):\n",
    "            VALdefeats += 1\n",
    "        elif(data.FTR[8904 + numero] == 'D'):\n",
    "            VALdraw += 1\n",
    "        elif(data.FTR[8904 + numero] == 'A'):\n",
    "            VALvictories += 1\n",
    "    numero += 1\n",
    "numero = 0 \n",
    "while(numero < 270):\n",
    "    if(data.AwayTeam[9284 + numero] == 'Valencia'):\n",
    "        if(data.FTR[9284 + numero] == 'H'):\n",
    "            VALdefeats += 1\n",
    "        elif(data.FTR[9284 + numero] == 'D'):\n",
    "            VALdraw += 1\n",
    "        elif(data.FTR[9284 + numero] == 'A'):\n",
    "            VALvictories += 1\n",
    "    numero += 1\n",
    "    \n",
    "#VILLAREAL RESULTADOS COMO VISITANTE     \n",
    "numero = 0 \n",
    "VILvictories = 0 \n",
    "VILdefeats = 0\n",
    "VILdraw = 0\n",
    "while(numero < 380):\n",
    "    if(data.AwayTeam[8524 + numero] == 'Villarreal'):\n",
    "        if(data.FTR[8524 + numero] == 'H'):\n",
    "            VILdefeats += 1\n",
    "        elif(data.FTR[8524 + numero] == 'D'):\n",
    "            VILdraw += 1\n",
    "        elif(data.FTR[8524 + numero] == 'A'):\n",
    "            VILvictories += 1\n",
    "    numero += 1\n",
    "numero = 0 \n",
    "while(numero < 380):\n",
    "    if(data.AwayTeam[8904 + numero] == 'Villarreal'):\n",
    "        if(data.FTR[8904 + numero] == 'H'):\n",
    "            VILdefeats += 1\n",
    "        elif(data.FTR[8904 + numero] == 'D'):\n",
    "            VILdraw += 1\n",
    "        elif(data.FTR[8904 + numero] == 'A'):\n",
    "            VILvictories += 1\n",
    "    numero += 1\n",
    "numero = 0 \n",
    "while(numero < 270):\n",
    "    if(data.AwayTeam[9284 + numero] == 'Villarreal'):\n",
    "        if(data.FTR[9284 + numero] == 'H'):\n",
    "            VILdefeats += 1\n",
    "        elif(data.FTR[9284 + numero] == 'D'):\n",
    "            VILdraw += 1\n",
    "        elif(data.FTR[9284 + numero] == 'A'):\n",
    "            VILvictories += 1\n",
    "    numero += 1\n",
    "    \n",
    "\n",
    "#REAL BETIS RESULTADOS COMO VISITANTE     \n",
    "numero = 0 \n",
    "BETvictories = 0 \n",
    "BETdefeats = 0\n",
    "BETdraw = 0\n",
    "while(numero < 380):\n",
    "    if(data.AwayTeam[8524 + numero] == 'Betis'):\n",
    "        if(data.FTR[8524 + numero] == 'H'):\n",
    "            BETdefeats += 1\n",
    "        elif(data.FTR[8524 + numero] == 'D'):\n",
    "            BETdraw += 1\n",
    "        elif(data.FTR[8524 + numero] == 'A'):\n",
    "            BETvictories += 1\n",
    "    numero += 1\n",
    "numero = 0 \n",
    "while(numero < 380):\n",
    "    if(data.AwayTeam[8904 + numero] == 'Betis'):\n",
    "        if(data.FTR[8904 + numero] == 'H'):\n",
    "            BETdefeats += 1\n",
    "        elif(data.FTR[8904 + numero] == 'D'):\n",
    "            BETdraw += 1\n",
    "        elif(data.FTR[8904 + numero] == 'A'):\n",
    "            BETvictories += 1\n",
    "    numero += 1\n",
    "numero = 0 \n",
    "while(numero < 270):\n",
    "    if(data.AwayTeam[9284 + numero] == 'Betis'):\n",
    "        if(data.FTR[9284 + numero] == 'H'):\n",
    "            BETdefeats += 1\n",
    "        elif(data.FTR[9284 + numero] == 'D'):\n",
    "            BETdraw += 1\n",
    "        elif(data.FTR[9284 + numero] == 'A'):\n",
    "            BETvictories += 1\n",
    "    numero += 1\n",
    "    \n",
    "\n",
    "#SEVILLA RESULTADOS COMO VISITANTE     \n",
    "numero = 0 \n",
    "SEVvictories = 0 \n",
    "SEVdefeats = 0\n",
    "SEVdraw = 0\n",
    "while(numero < 380):\n",
    "    if(data.AwayTeam[8524 + numero] == 'Sevilla'):\n",
    "        if(data.FTR[8524 + numero] == 'H'):\n",
    "            SEVdefeats += 1\n",
    "        elif(data.FTR[8524 + numero] == 'D'):\n",
    "            SEVdraw += 1\n",
    "        elif(data.FTR[8524 + numero] == 'A'):\n",
    "            SEVvictories += 1\n",
    "    numero += 1\n",
    "numero = 0 \n",
    "while(numero < 380):\n",
    "    if(data.AwayTeam[8904 + numero] == 'Sevilla'):\n",
    "        if(data.FTR[8904 + numero] == 'H'):\n",
    "            SEVdefeats += 1\n",
    "        elif(data.FTR[8904 + numero] == 'D'):\n",
    "            SEVdraw += 1\n",
    "        elif(data.FTR[8904 + numero] == 'A'):\n",
    "            SEVvictories += 1\n",
    "    numero += 1\n",
    "numero = 0 \n",
    "while(numero < 270):\n",
    "    if(data.AwayTeam[9284 + numero] == 'Sevilla'):\n",
    "        if(data.FTR[9284 + numero] == 'H'):\n",
    "            SEVdefeats += 1\n",
    "        elif(data.FTR[9284 + numero] == 'D'):\n",
    "            SEVdraw += 1\n",
    "        elif(data.FTR[9284 + numero] == 'A'):\n",
    "            SEVvictories += 1\n",
    "    numero += 1\n",
    "\n",
    "    \n",
    "#GETAFE RESULTADOS COMO VISITANTE     \n",
    "numero = 0 \n",
    "GETvictories = 0 \n",
    "GETdefeats = 0\n",
    "GETdraw = 0\n",
    "while(numero < 380):\n",
    "    if(data.AwayTeam[8524 + numero] == 'Getafe'):\n",
    "        if(data.FTR[8524 + numero] == 'H'):\n",
    "            GETdefeats += 1\n",
    "        elif(data.FTR[8524 + numero] == 'D'):\n",
    "            GETdraw += 1\n",
    "        elif(data.FTR[8524 + numero] == 'A'):\n",
    "            GETvictories += 1\n",
    "    numero += 1\n",
    "numero = 0 \n",
    "while(numero < 380):\n",
    "    if(data.AwayTeam[8904 + numero] == 'Getafe'):\n",
    "        if(data.FTR[8904 + numero] == 'H'):\n",
    "            GETdefeats += 1\n",
    "        elif(data.FTR[8904 + numero] == 'D'):\n",
    "            GETdraw += 1\n",
    "        elif(data.FTR[8904 + numero] == 'A'):\n",
    "            GETvictories += 1\n",
    "    numero += 1\n",
    "numero = 0 \n",
    "while(numero < 270):\n",
    "    if(data.AwayTeam[9284 + numero] == 'Getafe'):\n",
    "        if(data.FTR[9284 + numero] == 'H'):\n",
    "            GETdefeats += 1\n",
    "        elif(data.FTR[9284 + numero] == 'D'):\n",
    "            GETdraw += 1\n",
    "        elif(data.FTR[9284 + numero] == 'A'):\n",
    "            GETvictories += 1\n",
    "    numero += 1\n",
    "    \n",
    "    \n",
    "#REAL ESPANYOL RESULTADOS COMO VISITANTE     \n",
    "numero = 0 \n",
    "ESPvictories = 0 \n",
    "ESPdefeats = 0\n",
    "ESPdraw = 0\n",
    "while(numero < 380):\n",
    "    if(data.AwayTeam[8524 + numero] == 'Espanol'):\n",
    "        if(data.FTR[8524 + numero] == 'H'):\n",
    "            ESPdefeats += 1\n",
    "        elif(data.FTR[8524 + numero] == 'D'):\n",
    "            ESPdraw += 1\n",
    "        elif(data.FTR[8524 + numero] == 'A'):\n",
    "            ESPvictories += 1\n",
    "    numero += 1\n",
    "numero = 0 \n",
    "while(numero < 380):\n",
    "    if(data.AwayTeam[8904 + numero] == 'Espanol'):\n",
    "        if(data.FTR[8904 + numero] == 'H'):\n",
    "            ESPdefeats += 1\n",
    "        elif(data.FTR[8904 + numero] == 'D'):\n",
    "            ESPdraw += 1\n",
    "        elif(data.FTR[8904 + numero] == 'A'):\n",
    "            ESPvictories += 1\n",
    "    numero += 1\n",
    "numero = 0 \n",
    "while(numero < 270):\n",
    "    if(data.AwayTeam[9284 + numero] == 'Espanol'):\n",
    "        if(data.FTR[9284 + numero] == 'H'):\n",
    "            ESPdefeats += 1\n",
    "        elif(data.FTR[9284 + numero] == 'D'):\n",
    "            ESPdraw += 1\n",
    "        elif(data.FTR[9284 + numero] == 'A'):\n",
    "            ESPvictories += 1\n",
    "    numero += 1\n",
    "    \n",
    "#REAL SOCIEDAD RESULTADOS COMO VISITANTE     \n",
    "numero = 0 \n",
    "REAvictories = 0 \n",
    "REAdefeats = 0\n",
    "REAdraw = 0\n",
    "while(numero < 380):\n",
    "    if(data.AwayTeam[8524 + numero] == 'Sociedad'):\n",
    "        if(data.FTR[8524 + numero] == 'H'):\n",
    "            REAdefeats += 1\n",
    "        elif(data.FTR[8524 + numero] == 'D'):\n",
    "            REAdraw += 1\n",
    "        elif(data.FTR[8524 + numero] == 'A'):\n",
    "            REAvictories += 1\n",
    "    numero += 1\n",
    "numero = 0 \n",
    "while(numero < 380):\n",
    "    if(data.AwayTeam[8904 + numero] == 'Sociedad'):\n",
    "        if(data.FTR[8904 + numero] == 'H'):\n",
    "            REAdefeats += 1\n",
    "        elif(data.FTR[8904 + numero] == 'D'):\n",
    "            REAdraw += 1\n",
    "        elif(data.FTR[8904 + numero] == 'A'):\n",
    "            REAvictories += 1\n",
    "    numero += 1\n",
    "numero = 0 \n",
    "while(numero < 270):\n",
    "    if(data.AwayTeam[9284 + numero] == 'Sociedad'):\n",
    "        if(data.FTR[9284 + numero] == 'H'):\n",
    "            REAdefeats += 1\n",
    "        elif(data.FTR[9284 + numero] == 'D'):\n",
    "            REAdraw += 1\n",
    "        elif(data.FTR[9284 + numero] == 'A'):\n",
    "            REAvictories += 1\n",
    "    numero += 1\n",
    "\n",
    "#ALAVES RESULTADOS COMO VISITANTE \n",
    "numero = 0 \n",
    "ALAvictories = 0 \n",
    "ALAdefeats = 0\n",
    "ALAdraw = 0\n",
    "while(numero < 380):\n",
    "    if(data.AwayTeam[8524 + numero] == 'Alaves'):\n",
    "        if(data.FTR[8524 + numero] == 'H'):\n",
    "            ALAvictories += 1\n",
    "        elif(data.FTR[8524 + numero] == 'D'):\n",
    "            ALAdraw += 1\n",
    "        elif(data.FTR[8524 + numero] == 'A'):\n",
    "            ALAdefeats += 1\n",
    "    numero += 1\n",
    "numero = 0 \n",
    "while(numero < 380):\n",
    "    if(data.AwayTeam[8904 + numero] == 'Alaves'):\n",
    "        if(data.FTR[8904 + numero] == 'H'):\n",
    "            ALAvictories += 1\n",
    "        elif(data.FTR[8904 + numero] == 'D'):\n",
    "            ALAdraw += 1\n",
    "        elif(data.FTR[8904 + numero] == 'A'):\n",
    "            ALAdefeats += 1\n",
    "    numero += 1\n",
    "numero = 0 \n",
    "while(numero < 270):\n",
    "    if(data.AwayTeam[9284 + numero] == 'Alaves'):\n",
    "        if(data.FTR[9284 + numero] == 'H'):\n",
    "            ALAvictories += 1\n",
    "        elif(data.FTR[9284 + numero] == 'D'):\n",
    "            ALAdraw += 1\n",
    "        elif(data.FTR[9284 + numero] == 'A'):\n",
    "            ALAdefeats += 1\n",
    "    numero += 1\n",
    "\n",
    "#LEVANTE RESULTADOS COMO VISITANTE \n",
    "numero = 0 \n",
    "LEVvictories = 0 \n",
    "LEVdefeats = 0\n",
    "LEVdraw = 0\n",
    "while(numero < 380):\n",
    "    if(data.AwayTeam[8524 + numero] == 'Levante'):\n",
    "        if(data.FTR[8524 + numero] == 'H'):\n",
    "            LEVvictories += 1\n",
    "        elif(data.FTR[8524 + numero] == 'D'):\n",
    "            LEVdraw += 1\n",
    "        elif(data.FTR[8524 + numero] == 'A'):\n",
    "            LEVdefeats += 1\n",
    "    numero += 1\n",
    "numero = 0 \n",
    "while(numero < 380):\n",
    "    if(data.AwayTeam[8904 + numero] == 'Levante'):\n",
    "        if(data.FTR[8904 + numero] == 'H'):\n",
    "            LEVvictories += 1\n",
    "        elif(data.FTR[8904 + numero] == 'D'):\n",
    "            LEVdraw += 1\n",
    "        elif(data.FTR[8904 + numero] == 'A'):\n",
    "            LEVdefeats += 1\n",
    "    numero += 1\n",
    "numero = 0 \n",
    "while(numero < 270):\n",
    "    if(data.AwayTeam[9284 + numero] == 'Levante'):\n",
    "        if(data.FTR[9284 + numero] == 'H'):\n",
    "            LEVvictories += 1\n",
    "        elif(data.FTR[9284 + numero] == 'D'):\n",
    "            LEVdraw += 1\n",
    "        elif(data.FTR[9284 + numero] == 'A'):\n",
    "            LEVdefeats += 1\n",
    "    numero += 1\n",
    "\n",
    "#ATHLETIC RESULTADOS COMO VISITANTE \n",
    "numero = 0 \n",
    "ATHvictories = 0 \n",
    "ATHdefeats = 0\n",
    "ATHdraw = 0\n",
    "while(numero < 380):\n",
    "    if(data.AwayTeam[8524 + numero] == 'Ath Bilbao'):\n",
    "        if(data.FTR[8524 + numero] == 'H'):\n",
    "            ATHvictories += 1\n",
    "        elif(data.FTR[8524 + numero] == 'D'):\n",
    "            ATHdraw += 1\n",
    "        elif(data.FTR[8524 + numero] == 'A'):\n",
    "            ATHdefeats += 1\n",
    "    numero += 1\n",
    "numero = 0 \n",
    "while(numero < 380):\n",
    "    if(data.AwayTeam[8904 + numero] == 'Ath Bilbao'):\n",
    "        if(data.FTR[8904 + numero] == 'H'):\n",
    "            ATHvictories += 1\n",
    "        elif(data.FTR[8904 + numero] == 'D'):\n",
    "            ATHdraw += 1\n",
    "        elif(data.FTR[8904 + numero] == 'A'):\n",
    "            ATHdefeats += 1\n",
    "    numero += 1\n",
    "numero = 0 \n",
    "while(numero < 270):\n",
    "    if(data.AwayTeam[9284 + numero] == 'Ath Bilbao'):\n",
    "        if(data.FTR[9284 + numero] == 'H'):\n",
    "            ATHvictories += 1\n",
    "        elif(data.FTR[9284 + numero] == 'D'):\n",
    "            ATHdraw += 1\n",
    "        elif(data.FTR[9284 + numero] == 'A'):\n",
    "            ATHdefeats += 1\n",
    "    numero += 1\n",
    "    \n",
    "#LEGANES RESULTADOS COMO VISITANTE \n",
    "numero = 0 \n",
    "LEGvictories = 0 \n",
    "LEGdefeats = 0\n",
    "LEGdraw = 0\n",
    "while(numero < 380):\n",
    "    if(data.AwayTeam[8524 + numero] == 'Leganes'):\n",
    "        if(data.FTR[8524 + numero] == 'H'):\n",
    "            LEGvictories += 1\n",
    "        elif(data.FTR[8524 + numero] == 'D'):\n",
    "            LEGdraw += 1\n",
    "        elif(data.FTR[8524 + numero] == 'A'):\n",
    "            LEGdefeats += 1\n",
    "    numero += 1\n",
    "numero = 0 \n",
    "while(numero < 380):\n",
    "    if(data.AwayTeam[8904 + numero] == 'Leganes'):\n",
    "        if(data.FTR[8904 + numero] == 'H'):\n",
    "            LEGvictories += 1\n",
    "        elif(data.FTR[8904 + numero] == 'D'):\n",
    "            LEGdraw += 1\n",
    "        elif(data.FTR[8904 + numero] == 'A'):\n",
    "            LEGdefeats += 1\n",
    "    numero += 1\n",
    "numero = 0 \n",
    "while(numero < 270):\n",
    "    if(data.AwayTeam[9284 + numero] == 'Leganes'):\n",
    "        if(data.FTR[9284 + numero] == 'H'):\n",
    "            LEGvictories += 1\n",
    "        elif(data.FTR[9284 + numero] == 'D'):\n",
    "            LEGdraw += 1\n",
    "        elif(data.FTR[9284 + numero] == 'A'):\n",
    "            LEGdefeats += 1\n",
    "    numero += 1\n",
    "\n",
    "#REAL VALLALOID RESULTADOS COMO VISITANTE \n",
    "numero = 0 \n",
    "RVLvictories = 0 \n",
    "RVLdefeats = 0\n",
    "RVLdraw = 0\n",
    "while(numero < 380):\n",
    "    if(data.AwayTeam[8524 + numero] == 'Valladolid'):\n",
    "        if(data.FTR[8524 + numero] == 'H'):\n",
    "            RVLvictories += 1\n",
    "        elif(data.FTR[8524 + numero] == 'D'):\n",
    "            RVLdraw += 1\n",
    "        elif(data.FTR[8524 + numero] == 'A'):\n",
    "            RVLdefeats += 1\n",
    "    numero += 1\n",
    "numero = 0 \n",
    "while(numero < 380):\n",
    "    if(data.AwayTeam[8904 + numero] == 'Valladolid'):\n",
    "        if(data.FTR[8904 + numero] == 'H'):\n",
    "            RVLvictories += 1\n",
    "        elif(data.FTR[8904 + numero] == 'D'):\n",
    "            RVLdraw += 1\n",
    "        elif(data.FTR[8904 + numero] == 'A'):\n",
    "            RVLdefeats += 1\n",
    "    numero += 1\n",
    "numero = 0 \n",
    "while(numero < 270):\n",
    "    if(data.AwayTeam[9284 + numero] == 'Valladolid'):\n",
    "        if(data.FTR[9284 + numero] == 'H'):\n",
    "            RVLvictories += 1\n",
    "        elif(data.FTR[9284 + numero] == 'D'):\n",
    "            RVLdraw += 1\n",
    "        elif(data.FTR[9284 + numero] == 'A'):\n",
    "            RVLdefeats += 1\n",
    "    numero += 1\n",
    "\n",
    "#CELTA RESULTADOS COMO VISITANTE \n",
    "numero = 0 \n",
    "CELvictories = 0 \n",
    "CELdefeats = 0\n",
    "CELdraw = 0\n",
    "while(numero < 380):\n",
    "    if(data.AwayTeam[8524 + numero] == 'Celta'):\n",
    "        if(data.FTR[8524 + numero] == 'H'):\n",
    "            CELvictories += 1\n",
    "        elif(data.FTR[8524 + numero] == 'D'):\n",
    "            CELdraw += 1\n",
    "        elif(data.FTR[8524 + numero] == 'A'):\n",
    "            CELdefeats += 1\n",
    "    numero += 1\n",
    "numero = 0 \n",
    "while(numero < 380):\n",
    "    if(data.AwayTeam[8904 + numero] == 'Celta'):\n",
    "        if(data.FTR[8904 + numero] == 'H'):\n",
    "            CELvictories += 1\n",
    "        elif(data.FTR[8904 + numero] == 'D'):\n",
    "            CELdraw += 1\n",
    "        elif(data.FTR[8904 + numero] == 'A'):\n",
    "            CELdefeats += 1\n",
    "    numero += 1\n",
    "numero = 0 \n",
    "while(numero < 270):\n",
    "    if(data.AwayTeam[9284 + numero] == 'Celta'):\n",
    "        if(data.FTR[9284 + numero] == 'H'):\n",
    "            CELvictories += 1\n",
    "        elif(data.FTR[9284 + numero] == 'D'):\n",
    "            CELdraw += 1\n",
    "        elif(data.FTR[9284 + numero] == 'A'):\n",
    "            CELdefeats += 1\n",
    "    numero += 1"
   ]
  },
  {
   "cell_type": "code",
   "execution_count": 44,
   "metadata": {},
   "outputs": [
    {
     "data": {
      "application/vnd.plotly.v1+json": {
       "config": {
        "plotlyServerURL": "https://plot.ly"
       },
       "data": [
        {
         "name": "Victorias",
         "type": "bar",
         "x": [
          "BAR",
          "ATM",
          "RMA",
          "VAL",
          "VIL",
          "BET",
          "SEV",
          "GET",
          "ESP",
          "REA",
          "ALA",
          "LEV",
          "ATH",
          "LEG",
          "RVL",
          "CEL"
         ],
         "y": [
          28,
          21,
          25,
          20,
          17,
          15,
          18,
          16,
          10,
          16,
          30,
          29,
          24,
          31,
          15,
          30
         ]
        },
        {
         "name": "Empates",
         "type": "bar",
         "x": [
          "BAR",
          "ATM",
          "RMA",
          "VAL",
          "VIL",
          "BET",
          "SEV",
          "GET",
          "ESP",
          "REA",
          "ALA",
          "LEV",
          "ATH",
          "LEG",
          "RVL",
          "CEL"
         ],
         "y": [
          15,
          18,
          14,
          13,
          11,
          11,
          10,
          20,
          18,
          11,
          7,
          11,
          18,
          12,
          10,
          14
         ]
        },
        {
         "name": "Derrotas",
         "type": "bar",
         "x": [
          "BAR",
          "ATM",
          "RMA",
          "VAL",
          "VIL",
          "BET",
          "SEV",
          "GET",
          "ESP",
          "REA",
          "ALA",
          "LEV",
          "ATH",
          "LEG",
          "RVL",
          "CEL"
         ],
         "y": [
          8,
          12,
          13,
          18,
          24,
          25,
          24,
          15,
          24,
          25,
          14,
          12,
          10,
          12,
          10,
          14
         ]
        }
       ],
       "layout": {
        "barmode": "stack",
        "template": {
         "data": {
          "bar": [
           {
            "error_x": {
             "color": "#2a3f5f"
            },
            "error_y": {
             "color": "#2a3f5f"
            },
            "marker": {
             "line": {
              "color": "#E5ECF6",
              "width": 0.5
             }
            },
            "type": "bar"
           }
          ],
          "barpolar": [
           {
            "marker": {
             "line": {
              "color": "#E5ECF6",
              "width": 0.5
             }
            },
            "type": "barpolar"
           }
          ],
          "carpet": [
           {
            "aaxis": {
             "endlinecolor": "#2a3f5f",
             "gridcolor": "white",
             "linecolor": "white",
             "minorgridcolor": "white",
             "startlinecolor": "#2a3f5f"
            },
            "baxis": {
             "endlinecolor": "#2a3f5f",
             "gridcolor": "white",
             "linecolor": "white",
             "minorgridcolor": "white",
             "startlinecolor": "#2a3f5f"
            },
            "type": "carpet"
           }
          ],
          "choropleth": [
           {
            "colorbar": {
             "outlinewidth": 0,
             "ticks": ""
            },
            "type": "choropleth"
           }
          ],
          "contour": [
           {
            "colorbar": {
             "outlinewidth": 0,
             "ticks": ""
            },
            "colorscale": [
             [
              0,
              "#0d0887"
             ],
             [
              0.1111111111111111,
              "#46039f"
             ],
             [
              0.2222222222222222,
              "#7201a8"
             ],
             [
              0.3333333333333333,
              "#9c179e"
             ],
             [
              0.4444444444444444,
              "#bd3786"
             ],
             [
              0.5555555555555556,
              "#d8576b"
             ],
             [
              0.6666666666666666,
              "#ed7953"
             ],
             [
              0.7777777777777778,
              "#fb9f3a"
             ],
             [
              0.8888888888888888,
              "#fdca26"
             ],
             [
              1,
              "#f0f921"
             ]
            ],
            "type": "contour"
           }
          ],
          "contourcarpet": [
           {
            "colorbar": {
             "outlinewidth": 0,
             "ticks": ""
            },
            "type": "contourcarpet"
           }
          ],
          "heatmap": [
           {
            "colorbar": {
             "outlinewidth": 0,
             "ticks": ""
            },
            "colorscale": [
             [
              0,
              "#0d0887"
             ],
             [
              0.1111111111111111,
              "#46039f"
             ],
             [
              0.2222222222222222,
              "#7201a8"
             ],
             [
              0.3333333333333333,
              "#9c179e"
             ],
             [
              0.4444444444444444,
              "#bd3786"
             ],
             [
              0.5555555555555556,
              "#d8576b"
             ],
             [
              0.6666666666666666,
              "#ed7953"
             ],
             [
              0.7777777777777778,
              "#fb9f3a"
             ],
             [
              0.8888888888888888,
              "#fdca26"
             ],
             [
              1,
              "#f0f921"
             ]
            ],
            "type": "heatmap"
           }
          ],
          "heatmapgl": [
           {
            "colorbar": {
             "outlinewidth": 0,
             "ticks": ""
            },
            "colorscale": [
             [
              0,
              "#0d0887"
             ],
             [
              0.1111111111111111,
              "#46039f"
             ],
             [
              0.2222222222222222,
              "#7201a8"
             ],
             [
              0.3333333333333333,
              "#9c179e"
             ],
             [
              0.4444444444444444,
              "#bd3786"
             ],
             [
              0.5555555555555556,
              "#d8576b"
             ],
             [
              0.6666666666666666,
              "#ed7953"
             ],
             [
              0.7777777777777778,
              "#fb9f3a"
             ],
             [
              0.8888888888888888,
              "#fdca26"
             ],
             [
              1,
              "#f0f921"
             ]
            ],
            "type": "heatmapgl"
           }
          ],
          "histogram": [
           {
            "marker": {
             "colorbar": {
              "outlinewidth": 0,
              "ticks": ""
             }
            },
            "type": "histogram"
           }
          ],
          "histogram2d": [
           {
            "colorbar": {
             "outlinewidth": 0,
             "ticks": ""
            },
            "colorscale": [
             [
              0,
              "#0d0887"
             ],
             [
              0.1111111111111111,
              "#46039f"
             ],
             [
              0.2222222222222222,
              "#7201a8"
             ],
             [
              0.3333333333333333,
              "#9c179e"
             ],
             [
              0.4444444444444444,
              "#bd3786"
             ],
             [
              0.5555555555555556,
              "#d8576b"
             ],
             [
              0.6666666666666666,
              "#ed7953"
             ],
             [
              0.7777777777777778,
              "#fb9f3a"
             ],
             [
              0.8888888888888888,
              "#fdca26"
             ],
             [
              1,
              "#f0f921"
             ]
            ],
            "type": "histogram2d"
           }
          ],
          "histogram2dcontour": [
           {
            "colorbar": {
             "outlinewidth": 0,
             "ticks": ""
            },
            "colorscale": [
             [
              0,
              "#0d0887"
             ],
             [
              0.1111111111111111,
              "#46039f"
             ],
             [
              0.2222222222222222,
              "#7201a8"
             ],
             [
              0.3333333333333333,
              "#9c179e"
             ],
             [
              0.4444444444444444,
              "#bd3786"
             ],
             [
              0.5555555555555556,
              "#d8576b"
             ],
             [
              0.6666666666666666,
              "#ed7953"
             ],
             [
              0.7777777777777778,
              "#fb9f3a"
             ],
             [
              0.8888888888888888,
              "#fdca26"
             ],
             [
              1,
              "#f0f921"
             ]
            ],
            "type": "histogram2dcontour"
           }
          ],
          "mesh3d": [
           {
            "colorbar": {
             "outlinewidth": 0,
             "ticks": ""
            },
            "type": "mesh3d"
           }
          ],
          "parcoords": [
           {
            "line": {
             "colorbar": {
              "outlinewidth": 0,
              "ticks": ""
             }
            },
            "type": "parcoords"
           }
          ],
          "pie": [
           {
            "automargin": true,
            "type": "pie"
           }
          ],
          "scatter": [
           {
            "marker": {
             "colorbar": {
              "outlinewidth": 0,
              "ticks": ""
             }
            },
            "type": "scatter"
           }
          ],
          "scatter3d": [
           {
            "line": {
             "colorbar": {
              "outlinewidth": 0,
              "ticks": ""
             }
            },
            "marker": {
             "colorbar": {
              "outlinewidth": 0,
              "ticks": ""
             }
            },
            "type": "scatter3d"
           }
          ],
          "scattercarpet": [
           {
            "marker": {
             "colorbar": {
              "outlinewidth": 0,
              "ticks": ""
             }
            },
            "type": "scattercarpet"
           }
          ],
          "scattergeo": [
           {
            "marker": {
             "colorbar": {
              "outlinewidth": 0,
              "ticks": ""
             }
            },
            "type": "scattergeo"
           }
          ],
          "scattergl": [
           {
            "marker": {
             "colorbar": {
              "outlinewidth": 0,
              "ticks": ""
             }
            },
            "type": "scattergl"
           }
          ],
          "scattermapbox": [
           {
            "marker": {
             "colorbar": {
              "outlinewidth": 0,
              "ticks": ""
             }
            },
            "type": "scattermapbox"
           }
          ],
          "scatterpolar": [
           {
            "marker": {
             "colorbar": {
              "outlinewidth": 0,
              "ticks": ""
             }
            },
            "type": "scatterpolar"
           }
          ],
          "scatterpolargl": [
           {
            "marker": {
             "colorbar": {
              "outlinewidth": 0,
              "ticks": ""
             }
            },
            "type": "scatterpolargl"
           }
          ],
          "scatterternary": [
           {
            "marker": {
             "colorbar": {
              "outlinewidth": 0,
              "ticks": ""
             }
            },
            "type": "scatterternary"
           }
          ],
          "surface": [
           {
            "colorbar": {
             "outlinewidth": 0,
             "ticks": ""
            },
            "colorscale": [
             [
              0,
              "#0d0887"
             ],
             [
              0.1111111111111111,
              "#46039f"
             ],
             [
              0.2222222222222222,
              "#7201a8"
             ],
             [
              0.3333333333333333,
              "#9c179e"
             ],
             [
              0.4444444444444444,
              "#bd3786"
             ],
             [
              0.5555555555555556,
              "#d8576b"
             ],
             [
              0.6666666666666666,
              "#ed7953"
             ],
             [
              0.7777777777777778,
              "#fb9f3a"
             ],
             [
              0.8888888888888888,
              "#fdca26"
             ],
             [
              1,
              "#f0f921"
             ]
            ],
            "type": "surface"
           }
          ],
          "table": [
           {
            "cells": {
             "fill": {
              "color": "#EBF0F8"
             },
             "line": {
              "color": "white"
             }
            },
            "header": {
             "fill": {
              "color": "#C8D4E3"
             },
             "line": {
              "color": "white"
             }
            },
            "type": "table"
           }
          ]
         },
         "layout": {
          "annotationdefaults": {
           "arrowcolor": "#2a3f5f",
           "arrowhead": 0,
           "arrowwidth": 1
          },
          "coloraxis": {
           "colorbar": {
            "outlinewidth": 0,
            "ticks": ""
           }
          },
          "colorscale": {
           "diverging": [
            [
             0,
             "#8e0152"
            ],
            [
             0.1,
             "#c51b7d"
            ],
            [
             0.2,
             "#de77ae"
            ],
            [
             0.3,
             "#f1b6da"
            ],
            [
             0.4,
             "#fde0ef"
            ],
            [
             0.5,
             "#f7f7f7"
            ],
            [
             0.6,
             "#e6f5d0"
            ],
            [
             0.7,
             "#b8e186"
            ],
            [
             0.8,
             "#7fbc41"
            ],
            [
             0.9,
             "#4d9221"
            ],
            [
             1,
             "#276419"
            ]
           ],
           "sequential": [
            [
             0,
             "#0d0887"
            ],
            [
             0.1111111111111111,
             "#46039f"
            ],
            [
             0.2222222222222222,
             "#7201a8"
            ],
            [
             0.3333333333333333,
             "#9c179e"
            ],
            [
             0.4444444444444444,
             "#bd3786"
            ],
            [
             0.5555555555555556,
             "#d8576b"
            ],
            [
             0.6666666666666666,
             "#ed7953"
            ],
            [
             0.7777777777777778,
             "#fb9f3a"
            ],
            [
             0.8888888888888888,
             "#fdca26"
            ],
            [
             1,
             "#f0f921"
            ]
           ],
           "sequentialminus": [
            [
             0,
             "#0d0887"
            ],
            [
             0.1111111111111111,
             "#46039f"
            ],
            [
             0.2222222222222222,
             "#7201a8"
            ],
            [
             0.3333333333333333,
             "#9c179e"
            ],
            [
             0.4444444444444444,
             "#bd3786"
            ],
            [
             0.5555555555555556,
             "#d8576b"
            ],
            [
             0.6666666666666666,
             "#ed7953"
            ],
            [
             0.7777777777777778,
             "#fb9f3a"
            ],
            [
             0.8888888888888888,
             "#fdca26"
            ],
            [
             1,
             "#f0f921"
            ]
           ]
          },
          "colorway": [
           "#636efa",
           "#EF553B",
           "#00cc96",
           "#ab63fa",
           "#FFA15A",
           "#19d3f3",
           "#FF6692",
           "#B6E880",
           "#FF97FF",
           "#FECB52"
          ],
          "font": {
           "color": "#2a3f5f"
          },
          "geo": {
           "bgcolor": "white",
           "lakecolor": "white",
           "landcolor": "#E5ECF6",
           "showlakes": true,
           "showland": true,
           "subunitcolor": "white"
          },
          "hoverlabel": {
           "align": "left"
          },
          "hovermode": "closest",
          "mapbox": {
           "style": "light"
          },
          "paper_bgcolor": "white",
          "plot_bgcolor": "#E5ECF6",
          "polar": {
           "angularaxis": {
            "gridcolor": "white",
            "linecolor": "white",
            "ticks": ""
           },
           "bgcolor": "#E5ECF6",
           "radialaxis": {
            "gridcolor": "white",
            "linecolor": "white",
            "ticks": ""
           }
          },
          "scene": {
           "xaxis": {
            "backgroundcolor": "#E5ECF6",
            "gridcolor": "white",
            "gridwidth": 2,
            "linecolor": "white",
            "showbackground": true,
            "ticks": "",
            "zerolinecolor": "white"
           },
           "yaxis": {
            "backgroundcolor": "#E5ECF6",
            "gridcolor": "white",
            "gridwidth": 2,
            "linecolor": "white",
            "showbackground": true,
            "ticks": "",
            "zerolinecolor": "white"
           },
           "zaxis": {
            "backgroundcolor": "#E5ECF6",
            "gridcolor": "white",
            "gridwidth": 2,
            "linecolor": "white",
            "showbackground": true,
            "ticks": "",
            "zerolinecolor": "white"
           }
          },
          "shapedefaults": {
           "line": {
            "color": "#2a3f5f"
           }
          },
          "ternary": {
           "aaxis": {
            "gridcolor": "white",
            "linecolor": "white",
            "ticks": ""
           },
           "baxis": {
            "gridcolor": "white",
            "linecolor": "white",
            "ticks": ""
           },
           "bgcolor": "#E5ECF6",
           "caxis": {
            "gridcolor": "white",
            "linecolor": "white",
            "ticks": ""
           }
          },
          "title": {
           "x": 0.05
          },
          "xaxis": {
           "automargin": true,
           "gridcolor": "white",
           "linecolor": "white",
           "ticks": "",
           "title": {
            "standoff": 15
           },
           "zerolinecolor": "white",
           "zerolinewidth": 2
          },
          "yaxis": {
           "automargin": true,
           "gridcolor": "white",
           "linecolor": "white",
           "ticks": "",
           "title": {
            "standoff": 15
           },
           "zerolinecolor": "white",
           "zerolinewidth": 2
          }
         }
        },
        "xaxis": {
         "categoryorder": "total descending"
        }
       }
      },
      "text/html": [
       "<div>\n",
       "        \n",
       "        \n",
       "            <div id=\"7dfaab80-2090-4856-bc5f-13837ec8e03b\" class=\"plotly-graph-div\" style=\"height:525px; width:100%;\"></div>\n",
       "            <script type=\"text/javascript\">\n",
       "                require([\"plotly\"], function(Plotly) {\n",
       "                    window.PLOTLYENV=window.PLOTLYENV || {};\n",
       "                    \n",
       "                if (document.getElementById(\"7dfaab80-2090-4856-bc5f-13837ec8e03b\")) {\n",
       "                    Plotly.newPlot(\n",
       "                        '7dfaab80-2090-4856-bc5f-13837ec8e03b',\n",
       "                        [{\"name\": \"Victorias\", \"type\": \"bar\", \"x\": [\"BAR\", \"ATM\", \"RMA\", \"VAL\", \"VIL\", \"BET\", \"SEV\", \"GET\", \"ESP\", \"REA\", \"ALA\", \"LEV\", \"ATH\", \"LEG\", \"RVL\", \"CEL\"], \"y\": [28, 21, 25, 20, 17, 15, 18, 16, 10, 16, 30, 29, 24, 31, 15, 30]}, {\"name\": \"Empates\", \"type\": \"bar\", \"x\": [\"BAR\", \"ATM\", \"RMA\", \"VAL\", \"VIL\", \"BET\", \"SEV\", \"GET\", \"ESP\", \"REA\", \"ALA\", \"LEV\", \"ATH\", \"LEG\", \"RVL\", \"CEL\"], \"y\": [15, 18, 14, 13, 11, 11, 10, 20, 18, 11, 7, 11, 18, 12, 10, 14]}, {\"name\": \"Derrotas\", \"type\": \"bar\", \"x\": [\"BAR\", \"ATM\", \"RMA\", \"VAL\", \"VIL\", \"BET\", \"SEV\", \"GET\", \"ESP\", \"REA\", \"ALA\", \"LEV\", \"ATH\", \"LEG\", \"RVL\", \"CEL\"], \"y\": [8, 12, 13, 18, 24, 25, 24, 15, 24, 25, 14, 12, 10, 12, 10, 14]}],\n",
       "                        {\"barmode\": \"stack\", \"template\": {\"data\": {\"bar\": [{\"error_x\": {\"color\": \"#2a3f5f\"}, \"error_y\": {\"color\": \"#2a3f5f\"}, \"marker\": {\"line\": {\"color\": \"#E5ECF6\", \"width\": 0.5}}, \"type\": \"bar\"}], \"barpolar\": [{\"marker\": {\"line\": {\"color\": \"#E5ECF6\", \"width\": 0.5}}, \"type\": \"barpolar\"}], \"carpet\": [{\"aaxis\": {\"endlinecolor\": \"#2a3f5f\", \"gridcolor\": \"white\", \"linecolor\": \"white\", \"minorgridcolor\": \"white\", \"startlinecolor\": \"#2a3f5f\"}, \"baxis\": {\"endlinecolor\": \"#2a3f5f\", \"gridcolor\": \"white\", \"linecolor\": \"white\", \"minorgridcolor\": \"white\", \"startlinecolor\": \"#2a3f5f\"}, \"type\": \"carpet\"}], \"choropleth\": [{\"colorbar\": {\"outlinewidth\": 0, \"ticks\": \"\"}, \"type\": \"choropleth\"}], \"contour\": [{\"colorbar\": {\"outlinewidth\": 0, \"ticks\": \"\"}, \"colorscale\": [[0.0, \"#0d0887\"], [0.1111111111111111, \"#46039f\"], [0.2222222222222222, \"#7201a8\"], [0.3333333333333333, \"#9c179e\"], [0.4444444444444444, \"#bd3786\"], [0.5555555555555556, \"#d8576b\"], [0.6666666666666666, \"#ed7953\"], [0.7777777777777778, \"#fb9f3a\"], [0.8888888888888888, \"#fdca26\"], [1.0, \"#f0f921\"]], \"type\": \"contour\"}], \"contourcarpet\": [{\"colorbar\": {\"outlinewidth\": 0, \"ticks\": \"\"}, \"type\": \"contourcarpet\"}], \"heatmap\": [{\"colorbar\": {\"outlinewidth\": 0, \"ticks\": \"\"}, \"colorscale\": [[0.0, \"#0d0887\"], [0.1111111111111111, \"#46039f\"], [0.2222222222222222, \"#7201a8\"], [0.3333333333333333, \"#9c179e\"], [0.4444444444444444, \"#bd3786\"], [0.5555555555555556, \"#d8576b\"], [0.6666666666666666, \"#ed7953\"], [0.7777777777777778, \"#fb9f3a\"], [0.8888888888888888, \"#fdca26\"], [1.0, \"#f0f921\"]], \"type\": \"heatmap\"}], \"heatmapgl\": [{\"colorbar\": {\"outlinewidth\": 0, \"ticks\": \"\"}, \"colorscale\": [[0.0, \"#0d0887\"], [0.1111111111111111, \"#46039f\"], [0.2222222222222222, \"#7201a8\"], [0.3333333333333333, \"#9c179e\"], [0.4444444444444444, \"#bd3786\"], [0.5555555555555556, \"#d8576b\"], [0.6666666666666666, \"#ed7953\"], [0.7777777777777778, \"#fb9f3a\"], [0.8888888888888888, \"#fdca26\"], [1.0, \"#f0f921\"]], \"type\": \"heatmapgl\"}], \"histogram\": [{\"marker\": {\"colorbar\": {\"outlinewidth\": 0, \"ticks\": \"\"}}, \"type\": \"histogram\"}], \"histogram2d\": [{\"colorbar\": {\"outlinewidth\": 0, \"ticks\": \"\"}, \"colorscale\": [[0.0, \"#0d0887\"], [0.1111111111111111, \"#46039f\"], [0.2222222222222222, \"#7201a8\"], [0.3333333333333333, \"#9c179e\"], [0.4444444444444444, \"#bd3786\"], [0.5555555555555556, \"#d8576b\"], [0.6666666666666666, \"#ed7953\"], [0.7777777777777778, \"#fb9f3a\"], [0.8888888888888888, \"#fdca26\"], [1.0, \"#f0f921\"]], \"type\": \"histogram2d\"}], \"histogram2dcontour\": [{\"colorbar\": {\"outlinewidth\": 0, \"ticks\": \"\"}, \"colorscale\": [[0.0, \"#0d0887\"], [0.1111111111111111, \"#46039f\"], [0.2222222222222222, \"#7201a8\"], [0.3333333333333333, \"#9c179e\"], [0.4444444444444444, \"#bd3786\"], [0.5555555555555556, \"#d8576b\"], [0.6666666666666666, \"#ed7953\"], [0.7777777777777778, \"#fb9f3a\"], [0.8888888888888888, \"#fdca26\"], [1.0, \"#f0f921\"]], \"type\": \"histogram2dcontour\"}], \"mesh3d\": [{\"colorbar\": {\"outlinewidth\": 0, \"ticks\": \"\"}, \"type\": \"mesh3d\"}], \"parcoords\": [{\"line\": {\"colorbar\": {\"outlinewidth\": 0, \"ticks\": \"\"}}, \"type\": \"parcoords\"}], \"pie\": [{\"automargin\": true, \"type\": \"pie\"}], \"scatter\": [{\"marker\": {\"colorbar\": {\"outlinewidth\": 0, \"ticks\": \"\"}}, \"type\": \"scatter\"}], \"scatter3d\": [{\"line\": {\"colorbar\": {\"outlinewidth\": 0, \"ticks\": \"\"}}, \"marker\": {\"colorbar\": {\"outlinewidth\": 0, \"ticks\": \"\"}}, \"type\": \"scatter3d\"}], \"scattercarpet\": [{\"marker\": {\"colorbar\": {\"outlinewidth\": 0, \"ticks\": \"\"}}, \"type\": \"scattercarpet\"}], \"scattergeo\": [{\"marker\": {\"colorbar\": {\"outlinewidth\": 0, \"ticks\": \"\"}}, \"type\": \"scattergeo\"}], \"scattergl\": [{\"marker\": {\"colorbar\": {\"outlinewidth\": 0, \"ticks\": \"\"}}, \"type\": \"scattergl\"}], \"scattermapbox\": [{\"marker\": {\"colorbar\": {\"outlinewidth\": 0, \"ticks\": \"\"}}, \"type\": \"scattermapbox\"}], \"scatterpolar\": [{\"marker\": {\"colorbar\": {\"outlinewidth\": 0, \"ticks\": \"\"}}, \"type\": \"scatterpolar\"}], \"scatterpolargl\": [{\"marker\": {\"colorbar\": {\"outlinewidth\": 0, \"ticks\": \"\"}}, \"type\": \"scatterpolargl\"}], \"scatterternary\": [{\"marker\": {\"colorbar\": {\"outlinewidth\": 0, \"ticks\": \"\"}}, \"type\": \"scatterternary\"}], \"surface\": [{\"colorbar\": {\"outlinewidth\": 0, \"ticks\": \"\"}, \"colorscale\": [[0.0, \"#0d0887\"], [0.1111111111111111, \"#46039f\"], [0.2222222222222222, \"#7201a8\"], [0.3333333333333333, \"#9c179e\"], [0.4444444444444444, \"#bd3786\"], [0.5555555555555556, \"#d8576b\"], [0.6666666666666666, \"#ed7953\"], [0.7777777777777778, \"#fb9f3a\"], [0.8888888888888888, \"#fdca26\"], [1.0, \"#f0f921\"]], \"type\": \"surface\"}], \"table\": [{\"cells\": {\"fill\": {\"color\": \"#EBF0F8\"}, \"line\": {\"color\": \"white\"}}, \"header\": {\"fill\": {\"color\": \"#C8D4E3\"}, \"line\": {\"color\": \"white\"}}, \"type\": \"table\"}]}, \"layout\": {\"annotationdefaults\": {\"arrowcolor\": \"#2a3f5f\", \"arrowhead\": 0, \"arrowwidth\": 1}, \"coloraxis\": {\"colorbar\": {\"outlinewidth\": 0, \"ticks\": \"\"}}, \"colorscale\": {\"diverging\": [[0, \"#8e0152\"], [0.1, \"#c51b7d\"], [0.2, \"#de77ae\"], [0.3, \"#f1b6da\"], [0.4, \"#fde0ef\"], [0.5, \"#f7f7f7\"], [0.6, \"#e6f5d0\"], [0.7, \"#b8e186\"], [0.8, \"#7fbc41\"], [0.9, \"#4d9221\"], [1, \"#276419\"]], \"sequential\": [[0.0, \"#0d0887\"], [0.1111111111111111, \"#46039f\"], [0.2222222222222222, \"#7201a8\"], [0.3333333333333333, \"#9c179e\"], [0.4444444444444444, \"#bd3786\"], [0.5555555555555556, \"#d8576b\"], [0.6666666666666666, \"#ed7953\"], [0.7777777777777778, \"#fb9f3a\"], [0.8888888888888888, \"#fdca26\"], [1.0, \"#f0f921\"]], \"sequentialminus\": [[0.0, \"#0d0887\"], [0.1111111111111111, \"#46039f\"], [0.2222222222222222, \"#7201a8\"], [0.3333333333333333, \"#9c179e\"], [0.4444444444444444, \"#bd3786\"], [0.5555555555555556, \"#d8576b\"], [0.6666666666666666, \"#ed7953\"], [0.7777777777777778, \"#fb9f3a\"], [0.8888888888888888, \"#fdca26\"], [1.0, \"#f0f921\"]]}, \"colorway\": [\"#636efa\", \"#EF553B\", \"#00cc96\", \"#ab63fa\", \"#FFA15A\", \"#19d3f3\", \"#FF6692\", \"#B6E880\", \"#FF97FF\", \"#FECB52\"], \"font\": {\"color\": \"#2a3f5f\"}, \"geo\": {\"bgcolor\": \"white\", \"lakecolor\": \"white\", \"landcolor\": \"#E5ECF6\", \"showlakes\": true, \"showland\": true, \"subunitcolor\": \"white\"}, \"hoverlabel\": {\"align\": \"left\"}, \"hovermode\": \"closest\", \"mapbox\": {\"style\": \"light\"}, \"paper_bgcolor\": \"white\", \"plot_bgcolor\": \"#E5ECF6\", \"polar\": {\"angularaxis\": {\"gridcolor\": \"white\", \"linecolor\": \"white\", \"ticks\": \"\"}, \"bgcolor\": \"#E5ECF6\", \"radialaxis\": {\"gridcolor\": \"white\", \"linecolor\": \"white\", \"ticks\": \"\"}}, \"scene\": {\"xaxis\": {\"backgroundcolor\": \"#E5ECF6\", \"gridcolor\": \"white\", \"gridwidth\": 2, \"linecolor\": \"white\", \"showbackground\": true, \"ticks\": \"\", \"zerolinecolor\": \"white\"}, \"yaxis\": {\"backgroundcolor\": \"#E5ECF6\", \"gridcolor\": \"white\", \"gridwidth\": 2, \"linecolor\": \"white\", \"showbackground\": true, \"ticks\": \"\", \"zerolinecolor\": \"white\"}, \"zaxis\": {\"backgroundcolor\": \"#E5ECF6\", \"gridcolor\": \"white\", \"gridwidth\": 2, \"linecolor\": \"white\", \"showbackground\": true, \"ticks\": \"\", \"zerolinecolor\": \"white\"}}, \"shapedefaults\": {\"line\": {\"color\": \"#2a3f5f\"}}, \"ternary\": {\"aaxis\": {\"gridcolor\": \"white\", \"linecolor\": \"white\", \"ticks\": \"\"}, \"baxis\": {\"gridcolor\": \"white\", \"linecolor\": \"white\", \"ticks\": \"\"}, \"bgcolor\": \"#E5ECF6\", \"caxis\": {\"gridcolor\": \"white\", \"linecolor\": \"white\", \"ticks\": \"\"}}, \"title\": {\"x\": 0.05}, \"xaxis\": {\"automargin\": true, \"gridcolor\": \"white\", \"linecolor\": \"white\", \"ticks\": \"\", \"title\": {\"standoff\": 15}, \"zerolinecolor\": \"white\", \"zerolinewidth\": 2}, \"yaxis\": {\"automargin\": true, \"gridcolor\": \"white\", \"linecolor\": \"white\", \"ticks\": \"\", \"title\": {\"standoff\": 15}, \"zerolinecolor\": \"white\", \"zerolinewidth\": 2}}}, \"xaxis\": {\"categoryorder\": \"total descending\"}},\n",
       "                        {\"responsive\": true}\n",
       "                    ).then(function(){\n",
       "                            \n",
       "var gd = document.getElementById('7dfaab80-2090-4856-bc5f-13837ec8e03b');\n",
       "var x = new MutationObserver(function (mutations, observer) {{\n",
       "        var display = window.getComputedStyle(gd).display;\n",
       "        if (!display || display === 'none') {{\n",
       "            console.log([gd, 'removed!']);\n",
       "            Plotly.purge(gd);\n",
       "            observer.disconnect();\n",
       "        }}\n",
       "}});\n",
       "\n",
       "// Listen for the removal of the full notebook cells\n",
       "var notebookContainer = gd.closest('#notebook-container');\n",
       "if (notebookContainer) {{\n",
       "    x.observe(notebookContainer, {childList: true});\n",
       "}}\n",
       "\n",
       "// Listen for the clearing of the current output cell\n",
       "var outputEl = gd.closest('.output');\n",
       "if (outputEl) {{\n",
       "    x.observe(outputEl, {childList: true});\n",
       "}}\n",
       "\n",
       "                        })\n",
       "                };\n",
       "                });\n",
       "            </script>\n",
       "        </div>"
      ]
     },
     "metadata": {},
     "output_type": "display_data"
    }
   ],
   "source": [
    "import plotly.graph_objects as go\n",
    "\n",
    "x=['BAR', 'ATM', 'RMA', 'VAL', 'VIL', 'BET', 'SEV', 'GET', 'ESP', 'REA', \"ALA\", \"LEV\",\"ATH\", \"LEG\",\"RVL\",\"CEL\"]\n",
    "fig = go.Figure(go.Bar(x=x, y=[BARvictories, ATMvictories, RMAvictories, VALvictories, VILvictories, \n",
    "                               BETvictories, SEVvictories, GETvictories, ESPvictories, REAvictories, ALAvictories,\n",
    "                              LEVvictories, ATHvictories, LEGvictories, RVLvictories, CELvictories], name='Victorias'))\n",
    "fig.add_trace(go.Bar(x=x, y=[BARdraw, ATMdraw, RMAdraw, VALdraw, VILdraw, BETdraw, SEVdraw, GETdraw, \n",
    "                            ESPdraw, REAdraw, ALAdraw, LEVdraw, ATHdraw, LEGdraw, RVLdraw, CELdraw], name='Empates'))\n",
    "fig.add_trace(go.Bar(x=x, y=[BARdefeats, ATMdefeats, RMAdefeats, VALdefeats, VILdefeats, BETdefeats,\n",
    "                            SEVdefeats, GETdefeats, ESPdefeats, REAdefeats, ALAdefeats, LEVdefeats,\n",
    "                            ATHdefeats, LEGdraw, RVLdraw, CELdraw], name='Derrotas'))\n",
    "\n",
    "fig.update_layout(barmode='stack', xaxis={'categoryorder':'total descending'})\n",
    "fig.show()"
   ]
  },
  {
   "cell_type": "code",
   "execution_count": null,
   "metadata": {},
   "outputs": [],
   "source": []
  }
 ],
 "metadata": {
  "kernelspec": {
   "display_name": "Python 3",
   "language": "python",
   "name": "python3"
  },
  "language_info": {
   "codemirror_mode": {
    "name": "ipython",
    "version": 3
   },
   "file_extension": ".py",
   "mimetype": "text/x-python",
   "name": "python",
   "nbconvert_exporter": "python",
   "pygments_lexer": "ipython3",
   "version": "3.8.1"
  }
 },
 "nbformat": 4,
 "nbformat_minor": 2
}

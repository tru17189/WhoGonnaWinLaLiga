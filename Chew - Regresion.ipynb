{
 "cells": [
  {
   "cell_type": "code",
   "execution_count": 1,
   "metadata": {},
   "outputs": [],
   "source": [
    "import numpy as np\n",
    "import pandas as pd\n",
    "import seaborn as sb\n",
    "import matplotlib.pyplot as plt\n",
    "%matplotlib inline\n",
    "from mpl_toolkits.mplot3d import Axes3D\n",
    "from matplotlib import cm\n",
    "plt.rcParams['figure.figsize'] = (16, 9)\n",
    "plt.style.use('ggplot')\n",
    "from sklearn import linear_model\n",
    "from sklearn.metrics import mean_squared_error, r2_score"
   ]
  },
  {
   "cell_type": "code",
   "execution_count": 2,
   "metadata": {},
   "outputs": [],
   "source": [
    "import import_ipynb"
   ]
  },
  {
   "cell_type": "code",
   "execution_count": 3,
   "metadata": {},
   "outputs": [],
   "source": [
    "import io, os, sys, types\n",
    "from IPython import get_ipython\n",
    "from nbformat import read\n",
    "from IPython.core.interactiveshell import InteractiveShell"
   ]
  },
  {
   "cell_type": "code",
   "execution_count": 4,
   "metadata": {},
   "outputs": [],
   "source": [
    "data = pd.read_csv('LaLiga Complete Matches 1995-2020.csv')"
   ]
  },
  {
   "cell_type": "code",
   "execution_count": 5,
   "metadata": {},
   "outputs": [],
   "source": [
    "X = []\n",
    "y = []\n",
    "REAX = []\n",
    "REAy = []"
   ]
  },
  {
   "cell_type": "code",
   "execution_count": 8,
   "metadata": {},
   "outputs": [],
   "source": [
    "#GIRONA\n",
    "numero = 0 \n",
    "GIRvictories = 0 \n",
    "GIRdefeats = 0\n",
    "GIRdraw = 0\n",
    "while(numero < 380):\n",
    "    if(data.HomeTeam[8524 + numero] == 'Girona'):\n",
    "        if(data.FTR[8524 + numero] == 'H'):\n",
    "            GIRdefeats += 3\n",
    "            GIRvictories += 3\n",
    "            X.append(GIRdefeats)\n",
    "            y.append(GIRvictories)\n",
    "        elif(data.FTR[8524 + numero] == 'D'):\n",
    "            GIRdefeats += 3\n",
    "            GIRvictories += 1\n",
    "            X.append(GIRdefeats)\n",
    "            y.append(GIRvictories)\n",
    "        elif(data.FTR[8524 + numero] == 'A'):\n",
    "            GIRdefeats += 3\n",
    "            GIRvictories += 0\n",
    "            X.append(GIRdefeats)\n",
    "            y.append(GIRvictories)\n",
    "    numero += 1\n",
    "numero = 0 \n",
    "while(numero < 380):\n",
    "    if(data.HomeTeam[8904 + numero] == 'Girona'):\n",
    "        if(data.FTR[8904 + numero] == 'H'):\n",
    "            GIRdefeats += 3\n",
    "            GIRvictories += 3\n",
    "            X.append(GIRdefeats)\n",
    "            y.append(GIRvictories)\n",
    "        elif(data.FTR[8904 + numero] == 'D'):\n",
    "            GIRdefeats += 3\n",
    "            GIRvictories += 1\n",
    "            X.append(GIRdefeats)\n",
    "            y.append(GIRvictories)\n",
    "        elif(data.FTR[8904 + numero] == 'A'):\n",
    "            GIRdefeats += 3\n",
    "            GIRvictories += 0\n",
    "            X.append(GIRdefeats)\n",
    "            y.append(GIRvictories)\n",
    "    numero += 1\n",
    "numero = 0 \n",
    "while(numero < 270):\n",
    "    if(data.HomeTeam[9284 + numero] == 'Girona'):\n",
    "        if(data.FTR[9284 + numero] == 'H'):\n",
    "            GIRdefeats += 3\n",
    "            GIRvictories += 3\n",
    "            X.append(GIRdefeats)\n",
    "            y.append(GIRvictories)\n",
    "        elif(data.FTR[9284 + numero] == 'D'):\n",
    "            GIRdefeats += 3\n",
    "            GIRvictories += 1\n",
    "            X.append(GIRdefeats)\n",
    "            y.append(GIRvictories)\n",
    "        elif(data.FTR[9284 + numero] == 'A'):\n",
    "            GIRdefeats += 3\n",
    "            GIRvictories += 0\n",
    "            X.append(GIRdefeats)\n",
    "            y.append(GIRvictories)\n",
    "    numero += 1"
   ]
  },
  {
   "cell_type": "code",
   "execution_count": 9,
   "metadata": {},
   "outputs": [],
   "source": [
    "#Eibar\n",
    "numero = 0 \n",
    "EIBvictories = 0 \n",
    "EIBdefeats = 0\n",
    "EIBdraw = 0\n",
    "while(numero < 380):\n",
    "    if(data.HomeTeam[8524 + numero] == 'Eibar'):\n",
    "        if(data.FTR[8524 + numero] == 'H'):\n",
    "            EIBdefeats += 3\n",
    "            EIBvictories += 3\n",
    "            X.append(EIBdefeats)\n",
    "            y.append(EIBvictories)\n",
    "        elif(data.FTR[8524 + numero] == 'D'):\n",
    "            EIBdefeats += 3\n",
    "            EIBvictories += 1\n",
    "            X.append(EIBdefeats)\n",
    "            y.append(EIBvictories)\n",
    "        elif(data.FTR[8524 + numero] == 'A'):\n",
    "            EIBdefeats += 3\n",
    "            EIBvictories += 0\n",
    "            X.append(EIBdefeats)\n",
    "            y.append(EIBvictories)\n",
    "    numero += 1\n",
    "numero = 0 \n",
    "while(numero < 380):\n",
    "    if(data.HomeTeam[8904 + numero] == 'Eibar'):\n",
    "        if(data.FTR[8904 + numero] == 'H'):\n",
    "            EIBdefeats += 3\n",
    "            EIBvictories += 3\n",
    "            X.append(EIBdefeats)\n",
    "            y.append(EIBvictories)\n",
    "        elif(data.FTR[8904 + numero] == 'D'):\n",
    "            EIBdefeats += 3\n",
    "            EIBvictories += 1\n",
    "            X.append(EIBdefeats)\n",
    "            y.append(EIBvictories)\n",
    "        elif(data.FTR[8904 + numero] == 'A'):\n",
    "            EIBdefeats += 3\n",
    "            EIBvictories += 0\n",
    "            X.append(EIBdefeats)\n",
    "            y.append(EIBvictories)\n",
    "    numero += 1\n",
    "numero = 0 \n",
    "while(numero < 270):\n",
    "    if(data.HomeTeam[9284 + numero] == 'Eibar'):\n",
    "        if(data.FTR[9284 + numero] == 'H'):\n",
    "            EIBdefeats += 3\n",
    "            EIBvictories += 3\n",
    "            X.append(EIBdefeats)\n",
    "            y.append(EIBvictories)\n",
    "        elif(data.FTR[9284 + numero] == 'D'):\n",
    "            EIBdefeats += 3\n",
    "            EIBvictories += 1\n",
    "            X.append(EIBdefeats)\n",
    "            y.append(EIBvictories)\n",
    "        elif(data.FTR[9284 + numero] == 'A'):\n",
    "            EIBdefeats += 3\n",
    "            EIBvictories += 0\n",
    "            X.append(EIBdefeats)\n",
    "            y.append(EIBvictories)\n",
    "    numero += 1"
   ]
  },
  {
   "cell_type": "code",
   "execution_count": 10,
   "metadata": {},
   "outputs": [],
   "source": [
    "#Espanol\n",
    "numero = 0 \n",
    "ESPvictories = 0 \n",
    "ESPdefeats = 0\n",
    "ESPdraw = 0\n",
    "while(numero < 380):\n",
    "    if(data.HomeTeam[8524 + numero] == 'Espanol'):\n",
    "        if(data.FTR[8524 + numero] == 'H'):\n",
    "            ESPdefeats += 3\n",
    "            ESPvictories += 3\n",
    "            X.append(ESPdefeats)\n",
    "            y.append(ESPvictories)\n",
    "        elif(data.FTR[8524 + numero] == 'D'):\n",
    "            ESPdefeats += 3\n",
    "            ESPvictories += 1\n",
    "            X.append(ESPdefeats)\n",
    "            y.append(ESPvictories)\n",
    "        elif(data.FTR[8524 + numero] == 'A'):\n",
    "            ESPdefeats += 3\n",
    "            ESPvictories += 0\n",
    "            X.append(ESPdefeats)\n",
    "            y.append(ESPvictories)\n",
    "    numero += 1\n",
    "numero = 0 \n",
    "while(numero < 380):\n",
    "    if(data.HomeTeam[8904 + numero] == 'Espanol'):\n",
    "        if(data.FTR[8904 + numero] == 'H'):\n",
    "            ESPdefeats += 3\n",
    "            ESPvictories += 3\n",
    "            X.append(ESPdefeats)\n",
    "            y.append(ESPvictories)\n",
    "        elif(data.FTR[8904 + numero] == 'D'):\n",
    "            ESPdefeats += 3\n",
    "            ESPvictories += 1\n",
    "            X.append(ESPdefeats)\n",
    "            y.append(ESPvictories)\n",
    "        elif(data.FTR[8904 + numero] == 'A'):\n",
    "            ESPdefeats += 3\n",
    "            ESPvictories += 0\n",
    "            X.append(ESPdefeats)\n",
    "            y.append(ESPvictories)\n",
    "    numero += 1\n",
    "numero = 0 \n",
    "while(numero < 270):\n",
    "    if(data.HomeTeam[9284 + numero] == 'Espanol'):\n",
    "        if(data.FTR[9284 + numero] == 'H'):\n",
    "            ESPdefeats += 3\n",
    "            ESPvictories += 3\n",
    "            X.append(ESPdefeats)\n",
    "            y.append(ESPvictories)\n",
    "        elif(data.FTR[9284 + numero] == 'D'):\n",
    "            ESPdefeats += 3\n",
    "            EIBvictories += 1\n",
    "            X.append(ESPdefeats)\n",
    "            y.append(ESPvictories)\n",
    "        elif(data.FTR[9284 + numero] == 'A'):\n",
    "            ESPdefeats += 3\n",
    "            ESPvictories += 0\n",
    "            X.append(ESPdefeats)\n",
    "            y.append(ESPvictories)\n",
    "    numero += 1"
   ]
  },
  {
   "cell_type": "code",
   "execution_count": 11,
   "metadata": {},
   "outputs": [],
   "source": [
    "#Osasuna\n",
    "numero = 0 \n",
    "OSAvictories = 0 \n",
    "OSAdefeats = 0\n",
    "OSAdraw = 0\n",
    "while(numero < 380):\n",
    "    if(data.HomeTeam[8524 + numero] == 'Osasuna'):\n",
    "        if(data.FTR[8524 + numero] == 'H'):\n",
    "            OSAdefeats += 3\n",
    "            OSAvictories += 3\n",
    "            X.append(OSAdefeats)\n",
    "            y.append(OSAvictories)\n",
    "        elif(data.FTR[8524 + numero] == 'D'):\n",
    "            OSAdefeats += 3\n",
    "            OSAvictories += 1\n",
    "            X.append(OSAdefeats)\n",
    "            y.append(OSAvictories)\n",
    "        elif(data.FTR[8524 + numero] == 'A'):\n",
    "            OSAdefeats += 3\n",
    "            OSAvictories += 0\n",
    "            X.append(OSAdefeats)\n",
    "            y.append(OSAvictories)\n",
    "    numero += 1\n",
    "numero = 0 \n",
    "while(numero < 380):\n",
    "    if(data.HomeTeam[8904 + numero] == 'Osasuna'):\n",
    "        if(data.FTR[8904 + numero] == 'H'):\n",
    "            OSAdefeats += 3\n",
    "            OSAvictories += 3\n",
    "            X.append(OSAdefeats)\n",
    "            y.append(OSAvictories)\n",
    "        elif(data.FTR[8904 + numero] == 'D'):\n",
    "            OSAdefeats += 3\n",
    "            OSAvictories += 1\n",
    "            X.append(OSAdefeats)\n",
    "            y.append(OSAvictories)\n",
    "        elif(data.FTR[8904 + numero] == 'A'):\n",
    "            OSAdefeats += 3\n",
    "            OSAvictories += 0\n",
    "            X.append(OSAdefeats)\n",
    "            y.append(OSAvictories)\n",
    "    numero += 1\n",
    "numero = 0 \n",
    "while(numero < 270):\n",
    "    if(data.HomeTeam[9284 + numero] == 'Osasuna'):\n",
    "        if(data.FTR[9284 + numero] == 'H'):\n",
    "            OSAdefeats += 3\n",
    "            OSAvictories += 3\n",
    "            X.append(OSAdefeats)\n",
    "            y.append(OSAvictories)\n",
    "        elif(data.FTR[9284 + numero] == 'D'):\n",
    "            OSAdefeats += 3\n",
    "            OSAvictories += 1\n",
    "            X.append(OSAdefeats)\n",
    "            y.append(OSAvictories)\n",
    "        elif(data.FTR[9284 + numero] == 'A'):\n",
    "            OSAdefeats += 3\n",
    "            OSAvictories += 0\n",
    "            X.append(OSAdefeats)\n",
    "            y.append(OSAvictories)\n",
    "    numero += 1"
   ]
  },
  {
   "cell_type": "code",
   "execution_count": 12,
   "metadata": {},
   "outputs": [],
   "source": [
    "#Granada\n",
    "numero = 0 \n",
    "GRAvictories = 0 \n",
    "GRAdefeats = 0\n",
    "GRAdraw = 0\n",
    "while(numero < 380):\n",
    "    if(data.HomeTeam[8524 + numero] == 'Granada'):\n",
    "        if(data.FTR[8524 + numero] == 'H'):\n",
    "            GRAdefeats += 3\n",
    "            GRAvictories += 3\n",
    "            X.append(GRAdefeats)\n",
    "            y.append(GRAvictories)\n",
    "        elif(data.FTR[8524 + numero] == 'D'):\n",
    "            GRAdefeats += 3\n",
    "            GRAvictories += 1\n",
    "            X.append(GRAdefeats)\n",
    "            y.append(GRAvictories)\n",
    "        elif(data.FTR[8524 + numero] == 'A'):\n",
    "            GRAdefeats += 3\n",
    "            GRAvictories += 0\n",
    "            X.append(GRAdefeats)\n",
    "            y.append(GRAvictories)\n",
    "    numero += 1\n",
    "numero = 0 \n",
    "while(numero < 380):\n",
    "    if(data.HomeTeam[8904 + numero] == 'Granda'):\n",
    "        if(data.FTR[8904 + numero] == 'H'):\n",
    "            GRAdefeats += 3\n",
    "            GRAvictories += 3\n",
    "            X.append(GRAdefeats)\n",
    "            y.append(GRAvictories)\n",
    "        elif(data.FTR[8904 + numero] == 'D'):\n",
    "            GRAdefeats += 3\n",
    "            GRAvictories += 1\n",
    "            X.append(GRAdefeats)\n",
    "            y.append(GRAvictories)\n",
    "        elif(data.FTR[8904 + numero] == 'A'):\n",
    "            GRAdefeats += 3\n",
    "            GRAvictories += 0\n",
    "            X.append(GRAdefeats)\n",
    "            y.append(GRAvictories)\n",
    "    numero += 1\n",
    "numero = 0 \n",
    "while(numero < 270):\n",
    "    if(data.HomeTeam[9284 + numero] == 'Granada'):\n",
    "        if(data.FTR[9284 + numero] == 'H'):\n",
    "            GRAdefeats += 3\n",
    "            GRAvictories += 3\n",
    "            X.append(GRAdefeats)\n",
    "            y.append(GRAvictories)\n",
    "        elif(data.FTR[9284 + numero] == 'D'):\n",
    "            GRAdefeats += 3\n",
    "            GRAvictories += 1\n",
    "            X.append(GRAdefeats)\n",
    "            y.append(GRAvictories)\n",
    "        elif(data.FTR[9284 + numero] == 'A'):\n",
    "            GRAdefeats += 3\n",
    "            GRAvictories += 0\n",
    "            X.append(GRAdefeats)\n",
    "            y.append(GRAvictories)\n",
    "    numero += 1"
   ]
  },
  {
   "cell_type": "code",
   "execution_count": 13,
   "metadata": {},
   "outputs": [],
   "source": [
    "# Splitting the dataset into the Training set and Test set\n",
    "from sklearn.model_selection import train_test_split\n",
    "X_train, X_test, y_train, y_test = train_test_split(X, y, test_size = 0.2, random_state = 0)"
   ]
  },
  {
   "cell_type": "code",
   "execution_count": 14,
   "metadata": {},
   "outputs": [],
   "source": [
    "from sklearn.preprocessing import StandardScaler\n",
    "sc_X = StandardScaler()\n",
    "X_train = sc_X.fit_transform(np.array(X_train).reshape(-1,1))\n",
    "X_test = sc_X.transform(np.array(X_test).reshape(-1,1))"
   ]
  },
  {
   "cell_type": "code",
   "execution_count": 15,
   "metadata": {},
   "outputs": [],
   "source": [
    "X = np.array(X).reshape(-1,1)\n",
    "y = np.array(y).reshape(-1,1)"
   ]
  },
  {
   "cell_type": "code",
   "execution_count": 16,
   "metadata": {},
   "outputs": [
    {
     "data": {
      "text/plain": [
       "LinearRegression(copy_X=True, fit_intercept=True, n_jobs=None, normalize=False)"
      ]
     },
     "execution_count": 16,
     "metadata": {},
     "output_type": "execute_result"
    }
   ],
   "source": [
    "# Fitting Linear Regression to the dataset\n",
    "from sklearn.linear_model import LinearRegression\n",
    "lin_reg = LinearRegression()\n",
    "lin_reg.fit(X, y)"
   ]
  },
  {
   "cell_type": "code",
   "execution_count": 17,
   "metadata": {},
   "outputs": [
    {
     "data": {
      "text/plain": [
       "LinearRegression(copy_X=True, fit_intercept=True, n_jobs=None, normalize=False)"
      ]
     },
     "execution_count": 17,
     "metadata": {},
     "output_type": "execute_result"
    }
   ],
   "source": [
    "# Fitting Polynomial Regression to the dataset\n",
    "from sklearn.preprocessing import PolynomialFeatures\n",
    "poly_reg = PolynomialFeatures(degree = 4)\n",
    "X_poly = poly_reg.fit_transform(X)\n",
    "poly_reg.fit(X_poly, y)\n",
    "lin_reg_2 = LinearRegression()\n",
    "lin_reg_2.fit(X_poly, y)"
   ]
  },
  {
   "cell_type": "code",
   "execution_count": 18,
   "metadata": {},
   "outputs": [
    {
     "data": {
      "image/png": "[encoded data removed]",
      "text/plain": [
       "<Figure size 432x288 with 1 Axes>"
      ]
     },
     "metadata": {
      "needs_background": "light"
     },
     "output_type": "display_data"
    }
   ],
   "source": [
    "# Visualising the Linear Regression results\n",
    "plt.scatter(X, y, color = 'red')\n",
    "plt.plot(X, lin_reg.predict(X), color = 'blue')\n",
    "plt.title('Truth or Bluff (Linear Regression)')\n",
    "plt.xlabel('points earned')\n",
    "plt.ylabel('points obtained')\n",
    "plt.show()"
   ]
  },
  {
   "cell_type": "code",
   "execution_count": 19,
   "metadata": {},
   "outputs": [
    {
     "data": {
      "image/png": "[encoded data removed]",
      "text/plain": [
       "<Figure size 432x288 with 1 Axes>"
      ]
     },
     "metadata": {
      "needs_background": "light"
     },
     "output_type": "display_data"
    }
   ],
   "source": [
    "# Visualising the Polynomial Regression results\n",
    "plt.scatter(X, y, color = 'red')\n",
    "plt.plot(X, lin_reg_2.predict(poly_reg.fit_transform(X)), color = 'blue')\n",
    "plt.title('Truth or Bluff (Polynomial Regression)')\n",
    "plt.xlabel('points earned')\n",
    "plt.ylabel('points obtained')\n",
    "plt.show()"
   ]
  },
  {
   "cell_type": "code",
   "execution_count": 20,
   "metadata": {},
   "outputs": [
    {
     "data": {
      "image/png": "[encoded data removed]",
      "text/plain": [
       "<Figure size 432x288 with 1 Axes>"
      ]
     },
     "metadata": {
      "needs_background": "light"
     },
     "output_type": "display_data"
    }
   ],
   "source": [
    "# Visualising the Polynomial Regression results (for higher resolution and smoother curve)\n",
    "X_grid = np.arange(min(X), max(X), 0.1)\n",
    "X_grid = X_grid.reshape((len(X_grid), 1))\n",
    "plt.scatter(X, y, color = 'red')\n",
    "plt.plot(X_grid, lin_reg_2.predict(poly_reg.fit_transform(X_grid)), color = 'blue')\n",
    "plt.title('Truth or Bluff (Polynomial Regression)')\n",
    "plt.xlabel('points earned')\n",
    "plt.ylabel('points obtained')\n",
    "plt.show()"
   ]
  },
  {
   "cell_type": "code",
   "execution_count": 21,
   "metadata": {},
   "outputs": [
    {
     "data": {
      "text/plain": [
       "array([[80.16422851]])"
      ]
     },
     "execution_count": 21,
     "metadata": {},
     "output_type": "execute_result"
    }
   ],
   "source": [
    "# Predicting a new result with Linear Regression\n",
    "lin_reg.predict(np.array(159).reshape(-1,1))"
   ]
  },
  {
   "cell_type": "code",
   "execution_count": 22,
   "metadata": {},
   "outputs": [
    {
     "data": {
      "text/plain": [
       "array([[76.39256796]])"
      ]
     },
     "execution_count": 22,
     "metadata": {},
     "output_type": "execute_result"
    }
   ],
   "source": [
    "# Predicting a new result with Polynomial Regression\n",
    "lin_reg_2.predict(poly_reg.fit_transform(np.array(156).reshape(-1,1)))"
   ]
  }
 ],
 "metadata": {
  "kernelspec": {
   "display_name": "Python 3",
   "language": "python",
   "name": "python3"
  },
  "language_info": {
   "codemirror_mode": {
    "name": "ipython",
    "version": 3
   },
   "file_extension": ".py",
   "mimetype": "text/x-python",
   "name": "python",
   "nbconvert_exporter": "python",
   "pygments_lexer": "ipython3",
   "version": "3.6.5"
  }
 },
 "nbformat": 4,
 "nbformat_minor": 2
}
